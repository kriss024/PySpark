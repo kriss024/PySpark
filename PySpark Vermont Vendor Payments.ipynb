{
 "cells": [
  {
   "cell_type": "code",
   "execution_count": 1,
   "metadata": {},
   "outputs": [],
   "source": [
    "import pandas as pd \n",
    "import numpy as np\n",
    "import matplotlib.pyplot as plt \n",
    "from pyspark import SparkContext\n",
    "sc = SparkContext(master='local[*]', appName='Spark_App')"
   ]
  },
  {
   "cell_type": "code",
   "execution_count": 2,
   "metadata": {},
   "outputs": [],
   "source": [
    "import pyspark\n",
    "from pyspark.sql import SparkSession\n",
    "spark = SparkSession(sparkContext=sc)"
   ]
  },
  {
   "cell_type": "code",
   "execution_count": 3,
   "metadata": {},
   "outputs": [],
   "source": [
    "from pyspark.sql import Row\n",
    "from pyspark.sql.types import StructType, StructField, StringType, IntegerType, DoubleType\n",
    "from pyspark.sql.functions import lit, expr, col, when, coalesce, concat_ws, trim, length, translate\n",
    "from pyspark.sql.functions import to_date, row_number, regexp_replace, countDistinct, udf\n",
    "from pyspark.sql.functions import sum as f_sum, min as f_min, max as f_max\n",
    "from pyspark.sql.window import Window"
   ]
  },
  {
   "cell_type": "code",
   "execution_count": 4,
   "metadata": {},
   "outputs": [],
   "source": [
    "data = [['tom', 10], ['nick', 15], ['juli', 14]] \n",
    "pd_df = pd.DataFrame(data, columns = ['Name', 'Age'])\n",
    "df_spark = spark.createDataFrame(pd_df)"
   ]
  },
  {
   "cell_type": "code",
   "execution_count": 5,
   "metadata": {},
   "outputs": [
    {
     "name": "stdout",
     "output_type": "stream",
     "text": [
      "root\n",
      " |-- Name: string (nullable = true)\n",
      " |-- Age: long (nullable = true)\n",
      "\n"
     ]
    }
   ],
   "source": [
    "df_spark.printSchema()"
   ]
  },
  {
   "cell_type": "code",
   "execution_count": 6,
   "metadata": {},
   "outputs": [
    {
     "data": {
      "text/html": [
       "<div>\n",
       "<style scoped>\n",
       "    .dataframe tbody tr th:only-of-type {\n",
       "        vertical-align: middle;\n",
       "    }\n",
       "\n",
       "    .dataframe tbody tr th {\n",
       "        vertical-align: top;\n",
       "    }\n",
       "\n",
       "    .dataframe thead th {\n",
       "        text-align: right;\n",
       "    }\n",
       "</style>\n",
       "<table border=\"1\" class=\"dataframe\">\n",
       "  <thead>\n",
       "    <tr style=\"text-align: right;\">\n",
       "      <th></th>\n",
       "      <th>Name</th>\n",
       "      <th>Age</th>\n",
       "    </tr>\n",
       "  </thead>\n",
       "  <tbody>\n",
       "    <tr>\n",
       "      <th>0</th>\n",
       "      <td>tom</td>\n",
       "      <td>10</td>\n",
       "    </tr>\n",
       "    <tr>\n",
       "      <th>1</th>\n",
       "      <td>nick</td>\n",
       "      <td>15</td>\n",
       "    </tr>\n",
       "    <tr>\n",
       "      <th>2</th>\n",
       "      <td>juli</td>\n",
       "      <td>14</td>\n",
       "    </tr>\n",
       "  </tbody>\n",
       "</table>\n",
       "</div>"
      ],
      "text/plain": [
       "   Name  Age\n",
       "0   tom   10\n",
       "1  nick   15\n",
       "2  juli   14"
      ]
     },
     "execution_count": 6,
     "metadata": {},
     "output_type": "execute_result"
    }
   ],
   "source": [
    "df_spark.toPandas().head()"
   ]
  },
  {
   "cell_type": "code",
   "execution_count": 7,
   "metadata": {},
   "outputs": [],
   "source": [
    "df = spark.read.csv('Vermont_Vendor_Payments.csv', header='true', inferSchema = True)"
   ]
  },
  {
   "cell_type": "code",
   "execution_count": 8,
   "metadata": {},
   "outputs": [],
   "source": [
    "df = (df\n",
    "      .withColumn(\"Amount\", col(\"Amount\").cast(DoubleType()))\n",
    "      .withColumn(\"Quarter Ending\", to_date(col(\"Quarter Ending\"),\"MM/dd/yyy\")))"
   ]
  },
  {
   "cell_type": "code",
   "execution_count": 9,
   "metadata": {},
   "outputs": [
    {
     "name": "stdout",
     "output_type": "stream",
     "text": [
      "root\n",
      " |-- Quarter Ending: date (nullable = true)\n",
      " |-- Department: string (nullable = true)\n",
      " |-- UnitNo: integer (nullable = true)\n",
      " |-- Vendor Number: string (nullable = true)\n",
      " |-- Vendor: string (nullable = true)\n",
      " |-- City: string (nullable = true)\n",
      " |-- State: string (nullable = true)\n",
      " |-- DeptID Description: string (nullable = true)\n",
      " |-- DeptID: string (nullable = true)\n",
      " |-- Amount: double (nullable = true)\n",
      " |-- Account: string (nullable = true)\n",
      " |-- AcctNo: string (nullable = true)\n",
      " |-- Fund Description: string (nullable = true)\n",
      " |-- Fund: string (nullable = true)\n",
      "\n"
     ]
    }
   ],
   "source": [
    "df.printSchema()"
   ]
  },
  {
   "cell_type": "code",
   "execution_count": 10,
   "metadata": {},
   "outputs": [
    {
     "name": "stdout",
     "output_type": "stream",
     "text": [
      "The column Names are:\n",
      "Quarter Ending\n",
      "Department\n",
      "UnitNo\n",
      "Vendor Number\n",
      "Vendor\n",
      "City\n",
      "State\n",
      "DeptID Description\n",
      "DeptID\n",
      "Amount\n",
      "Account\n",
      "AcctNo\n",
      "Fund Description\n",
      "Fund\n"
     ]
    }
   ],
   "source": [
    "#we can use the columns attribute just like with pandas\n",
    "columns = df.columns\n",
    "print('The column Names are:')\n",
    "for i in columns:\n",
    "    print(i)"
   ]
  },
  {
   "cell_type": "code",
   "execution_count": 11,
   "metadata": {},
   "outputs": [
    {
     "name": "stdout",
     "output_type": "stream",
     "text": [
      "The total number of rows is: 1680170 \n",
      "The total number of columns is: 14\n"
     ]
    }
   ],
   "source": [
    "print('The total number of rows is:', df.count(), '\\nThe total number of columns is:', len(df.columns))"
   ]
  },
  {
   "cell_type": "code",
   "execution_count": 12,
   "metadata": {},
   "outputs": [
    {
     "data": {
      "text/plain": [
       "Row(Quarter Ending=datetime.date(2009, 9, 30), Department='Environmental Conservation', UnitNo=6140, Vendor Number='0000276016', Vendor='1st Run Computer Services Inc', City=None, State='NY', DeptID Description='WQD - Waterbury', DeptID='6140040206', Amount=930.0, Account='Rep&Maint-Info Tech Hardware', AcctNo='513000', Fund Description='Environmental Permit Fund', Fund='21295')"
      ]
     },
     "execution_count": 12,
     "metadata": {},
     "output_type": "execute_result"
    }
   ],
   "source": [
    "#show first row\n",
    "df.head()"
   ]
  },
  {
   "cell_type": "code",
   "execution_count": 13,
   "metadata": {},
   "outputs": [
    {
     "name": "stdout",
     "output_type": "stream",
     "text": [
      "[Row(Quarter Ending=datetime.date(2009, 9, 30), Department='Environmental Conservation', UnitNo=6140, Vendor Number='0000276016', Vendor='1st Run Computer Services Inc', City=None, State='NY', DeptID Description='WQD - Waterbury', DeptID='6140040206', Amount=930.0, Account='Rep&Maint-Info Tech Hardware', AcctNo='513000', Fund Description='Environmental Permit Fund', Fund='21295'), Row(Quarter Ending=datetime.date(2009, 9, 30), Department='Environmental Conservation', UnitNo=6140, Vendor Number='0000276016', Vendor='1st Run Computer Services Inc', City=None, State='NY', DeptID Description='Water Supply Division - Wtby', DeptID='6140040406', Amount=930.0, Account='Rep&Maint-Info Tech Hardware', AcctNo='513000', Fund Description='Environmental Permit Fund', Fund='21295'), Row(Quarter Ending=datetime.date(2009, 9, 30), Department=\"Vermont Veterans' Home\", UnitNo=3300, Vendor Number='0000284121', Vendor='210 Innovations LLC', City=None, State='CT', DeptID Description='MAINTENANCE', DeptID='3300010300', Amount=24.0, Account='Freight & Express Mail', AcctNo='517300', Fund Description='Vermont Medicaid', Fund='21782'), Row(Quarter Ending=datetime.date(2009, 9, 30), Department=\"Vermont Veterans' Home\", UnitNo=3300, Vendor Number='0000284121', Vendor='210 Innovations LLC', City=None, State='CT', DeptID Description='MAINTENANCE', DeptID='3300010300', Amount=420.0, Account='Building Maintenance Supplies', AcctNo='520200', Fund Description='Vermont Medicaid', Fund='21782'), Row(Quarter Ending=datetime.date(2009, 9, 30), Department='Corrections', UnitNo=3480, Vendor Number='0000207719', Vendor='21st Century Cellular', City=None, State='PA', DeptID Description='Brattleboro P&P', DeptID='3480004630', Amount=270.8, Account='Telecom-Wireless Phone Service', AcctNo='516659', Fund Description='General Fund', Fund='10000')]\n"
     ]
    }
   ],
   "source": [
    "# collect() is an action operation that is used to retrieve all the elements of the dataset (from all nodes) to the driver node. \n",
    "# We should use the collect() on smaller dataset usually after filter(), group() e.t.c.\n",
    "# Retrieving larger datasets results in OutOfMemory error.\n",
    "dataCollect = df.limit(5).collect()\n",
    "print(dataCollect)"
   ]
  },
  {
   "cell_type": "code",
   "execution_count": 14,
   "metadata": {},
   "outputs": [
    {
     "data": {
      "text/html": [
       "<div>\n",
       "<style scoped>\n",
       "    .dataframe tbody tr th:only-of-type {\n",
       "        vertical-align: middle;\n",
       "    }\n",
       "\n",
       "    .dataframe tbody tr th {\n",
       "        vertical-align: top;\n",
       "    }\n",
       "\n",
       "    .dataframe thead th {\n",
       "        text-align: right;\n",
       "    }\n",
       "</style>\n",
       "<table border=\"1\" class=\"dataframe\">\n",
       "  <thead>\n",
       "    <tr style=\"text-align: right;\">\n",
       "      <th></th>\n",
       "      <th>Quarter Ending</th>\n",
       "      <th>Department</th>\n",
       "      <th>UnitNo</th>\n",
       "      <th>Vendor Number</th>\n",
       "      <th>Vendor</th>\n",
       "      <th>City</th>\n",
       "      <th>State</th>\n",
       "      <th>DeptID Description</th>\n",
       "      <th>DeptID</th>\n",
       "      <th>Amount</th>\n",
       "      <th>Account</th>\n",
       "      <th>AcctNo</th>\n",
       "      <th>Fund Description</th>\n",
       "      <th>Fund</th>\n",
       "    </tr>\n",
       "  </thead>\n",
       "  <tbody>\n",
       "    <tr>\n",
       "      <th>0</th>\n",
       "      <td>2009-09-30</td>\n",
       "      <td>Environmental Conservation</td>\n",
       "      <td>6140</td>\n",
       "      <td>0000276016</td>\n",
       "      <td>1st Run Computer Services Inc</td>\n",
       "      <td>None</td>\n",
       "      <td>NY</td>\n",
       "      <td>WQD - Waterbury</td>\n",
       "      <td>6140040206</td>\n",
       "      <td>930.0</td>\n",
       "      <td>Rep&amp;Maint-Info Tech Hardware</td>\n",
       "      <td>513000</td>\n",
       "      <td>Environmental Permit Fund</td>\n",
       "      <td>21295</td>\n",
       "    </tr>\n",
       "    <tr>\n",
       "      <th>1</th>\n",
       "      <td>2009-09-30</td>\n",
       "      <td>Environmental Conservation</td>\n",
       "      <td>6140</td>\n",
       "      <td>0000276016</td>\n",
       "      <td>1st Run Computer Services Inc</td>\n",
       "      <td>None</td>\n",
       "      <td>NY</td>\n",
       "      <td>Water Supply Division - Wtby</td>\n",
       "      <td>6140040406</td>\n",
       "      <td>930.0</td>\n",
       "      <td>Rep&amp;Maint-Info Tech Hardware</td>\n",
       "      <td>513000</td>\n",
       "      <td>Environmental Permit Fund</td>\n",
       "      <td>21295</td>\n",
       "    </tr>\n",
       "    <tr>\n",
       "      <th>2</th>\n",
       "      <td>2009-09-30</td>\n",
       "      <td>Vermont Veterans' Home</td>\n",
       "      <td>3300</td>\n",
       "      <td>0000284121</td>\n",
       "      <td>210 Innovations LLC</td>\n",
       "      <td>None</td>\n",
       "      <td>CT</td>\n",
       "      <td>MAINTENANCE</td>\n",
       "      <td>3300010300</td>\n",
       "      <td>24.0</td>\n",
       "      <td>Freight &amp; Express Mail</td>\n",
       "      <td>517300</td>\n",
       "      <td>Vermont Medicaid</td>\n",
       "      <td>21782</td>\n",
       "    </tr>\n",
       "    <tr>\n",
       "      <th>3</th>\n",
       "      <td>2009-09-30</td>\n",
       "      <td>Vermont Veterans' Home</td>\n",
       "      <td>3300</td>\n",
       "      <td>0000284121</td>\n",
       "      <td>210 Innovations LLC</td>\n",
       "      <td>None</td>\n",
       "      <td>CT</td>\n",
       "      <td>MAINTENANCE</td>\n",
       "      <td>3300010300</td>\n",
       "      <td>420.0</td>\n",
       "      <td>Building Maintenance Supplies</td>\n",
       "      <td>520200</td>\n",
       "      <td>Vermont Medicaid</td>\n",
       "      <td>21782</td>\n",
       "    </tr>\n",
       "    <tr>\n",
       "      <th>4</th>\n",
       "      <td>2009-09-30</td>\n",
       "      <td>Corrections</td>\n",
       "      <td>3480</td>\n",
       "      <td>0000207719</td>\n",
       "      <td>21st Century Cellular</td>\n",
       "      <td>None</td>\n",
       "      <td>PA</td>\n",
       "      <td>Brattleboro P&amp;P</td>\n",
       "      <td>3480004630</td>\n",
       "      <td>270.8</td>\n",
       "      <td>Telecom-Wireless Phone Service</td>\n",
       "      <td>516659</td>\n",
       "      <td>General Fund</td>\n",
       "      <td>10000</td>\n",
       "    </tr>\n",
       "  </tbody>\n",
       "</table>\n",
       "</div>"
      ],
      "text/plain": [
       "  Quarter Ending                  Department  UnitNo Vendor Number  \\\n",
       "0     2009-09-30  Environmental Conservation    6140    0000276016   \n",
       "1     2009-09-30  Environmental Conservation    6140    0000276016   \n",
       "2     2009-09-30      Vermont Veterans' Home    3300    0000284121   \n",
       "3     2009-09-30      Vermont Veterans' Home    3300    0000284121   \n",
       "4     2009-09-30                 Corrections    3480    0000207719   \n",
       "\n",
       "                          Vendor  City State            DeptID Description  \\\n",
       "0  1st Run Computer Services Inc  None    NY               WQD - Waterbury   \n",
       "1  1st Run Computer Services Inc  None    NY  Water Supply Division - Wtby   \n",
       "2            210 Innovations LLC  None    CT                   MAINTENANCE   \n",
       "3            210 Innovations LLC  None    CT                   MAINTENANCE   \n",
       "4          21st Century Cellular  None    PA               Brattleboro P&P   \n",
       "\n",
       "       DeptID  Amount                         Account  AcctNo  \\\n",
       "0  6140040206   930.0    Rep&Maint-Info Tech Hardware  513000   \n",
       "1  6140040406   930.0    Rep&Maint-Info Tech Hardware  513000   \n",
       "2  3300010300    24.0          Freight & Express Mail  517300   \n",
       "3  3300010300   420.0   Building Maintenance Supplies  520200   \n",
       "4  3480004630   270.8  Telecom-Wireless Phone Service  516659   \n",
       "\n",
       "            Fund Description   Fund  \n",
       "0  Environmental Permit Fund  21295  \n",
       "1  Environmental Permit Fund  21295  \n",
       "2           Vermont Medicaid  21782  \n",
       "3           Vermont Medicaid  21782  \n",
       "4               General Fund  10000  "
      ]
     },
     "execution_count": 14,
     "metadata": {},
     "output_type": "execute_result"
    }
   ],
   "source": [
    "df.limit(10).toPandas().head()"
   ]
  },
  {
   "cell_type": "code",
   "execution_count": 15,
   "metadata": {},
   "outputs": [
    {
     "data": {
      "text/html": [
       "<div>\n",
       "<style scoped>\n",
       "    .dataframe tbody tr th:only-of-type {\n",
       "        vertical-align: middle;\n",
       "    }\n",
       "\n",
       "    .dataframe tbody tr th {\n",
       "        vertical-align: top;\n",
       "    }\n",
       "\n",
       "    .dataframe thead th {\n",
       "        text-align: right;\n",
       "    }\n",
       "</style>\n",
       "<table border=\"1\" class=\"dataframe\">\n",
       "  <thead>\n",
       "    <tr style=\"text-align: right;\">\n",
       "      <th></th>\n",
       "      <th>summary</th>\n",
       "      <th>Amount</th>\n",
       "    </tr>\n",
       "  </thead>\n",
       "  <tbody>\n",
       "    <tr>\n",
       "      <th>0</th>\n",
       "      <td>count</td>\n",
       "      <td>1679823</td>\n",
       "    </tr>\n",
       "    <tr>\n",
       "      <th>1</th>\n",
       "      <td>mean</td>\n",
       "      <td>185564.90298365554</td>\n",
       "    </tr>\n",
       "    <tr>\n",
       "      <th>2</th>\n",
       "      <td>stddev</td>\n",
       "      <td>1.420018537402847E7</td>\n",
       "    </tr>\n",
       "    <tr>\n",
       "      <th>3</th>\n",
       "      <td>min</td>\n",
       "      <td>-2880183.34</td>\n",
       "    </tr>\n",
       "    <tr>\n",
       "      <th>4</th>\n",
       "      <td>max</td>\n",
       "      <td>6.10001E9</td>\n",
       "    </tr>\n",
       "  </tbody>\n",
       "</table>\n",
       "</div>"
      ],
      "text/plain": [
       "  summary               Amount\n",
       "0   count              1679823\n",
       "1    mean   185564.90298365554\n",
       "2  stddev  1.420018537402847E7\n",
       "3     min          -2880183.34\n",
       "4     max            6.10001E9"
      ]
     },
     "execution_count": 15,
     "metadata": {},
     "output_type": "execute_result"
    }
   ],
   "source": [
    "df.describe('Amount').toPandas().head()"
   ]
  },
  {
   "cell_type": "code",
   "execution_count": 16,
   "metadata": {},
   "outputs": [
    {
     "name": "stdout",
     "output_type": "stream",
     "text": [
      "+------------------------------+\n",
      "|Fund Description              |\n",
      "+------------------------------+\n",
      "|HE-Third Party Reimbursement  |\n",
      "|Snowmobile Trails             |\n",
      "|HE-Asbestos Fees              |\n",
      "|Workforce Ed & Training Fund  |\n",
      "|DAD-Vending Facilities        |\n",
      "|AF&M-Agricultural Fees        |\n",
      "|PS-Law Enforcement Services   |\n",
      "|F&W Federal Revenues Fund     |\n",
      "|Electric Power Sales Fund     |\n",
      "|Agric, Hort, Wildlife         |\n",
      "|VDPC State Portion            |\n",
      "|Worker's Comp Admin Fund      |\n",
      "|Water/Sewer                   |\n",
      "|FPR - Land Acquisitions       |\n",
      "|Transp Fund - Other Dedicated |\n",
      "|Single Audit Revolving Fund   |\n",
      "|Protection Projects Fund      |\n",
      "|Attorney Admission,Licensing,&|\n",
      "|Chemical High Concrn Children |\n",
      "|Transportation FAA Fund       |\n",
      "+------------------------------+\n",
      "\n"
     ]
    }
   ],
   "source": [
    "df\\\n",
    ".select(\"Fund Description\")\\\n",
    ".distinct()\\\n",
    ".limit(20)\\\n",
    ".show(truncate = False)"
   ]
  },
  {
   "cell_type": "code",
   "execution_count": 17,
   "metadata": {},
   "outputs": [
    {
     "name": "stdout",
     "output_type": "stream",
     "text": [
      "+--------------+------------------------------+---------+-----+\n",
      "|Quarter Ending|Department                    |Amount   |State|\n",
      "+--------------+------------------------------+---------+-----+\n",
      "|2020-03-31    |Children and Families         |1067.39  |GA   |\n",
      "|2020-03-31    |Disabilities Aging Ind. Living|430.93   |IL   |\n",
      "|2020-03-31    |Buildings & Gen Serv-Prop     |115779.12|VT   |\n",
      "|2020-03-31    |Buildings & Gen Serv-Prop     |4117.5   |VT   |\n",
      "|2020-03-31    |Buildings & Gen Serv-Prop     |1800.0   |VT   |\n",
      "|2020-03-31    |Department of Liquor & Lottery|31.65    |VT   |\n",
      "|2020-03-31    |Department of Liquor & Lottery|20435.93 |VT   |\n",
      "|2020-03-31    |Criminal Justice Trng Council |2307.5   |IL   |\n",
      "|2020-03-31    |Buildings & Gen Serv-Prop     |283375.05|VT   |\n",
      "|2020-03-31    |Buildings & Gen Serv-Prop     |33471.93 |VT   |\n",
      "|2020-03-31    |Department of Liquor & Lottery|3981.59  |VT   |\n",
      "|2020-03-31    |Natural Resources Board       |246.4    |VT   |\n",
      "|2020-03-31    |Offender Work Program         |4029.68  |PA   |\n",
      "|2020-03-31    |Offender Work Program         |41688.0  |PA   |\n",
      "|2020-03-31    |Transportation Agency-Prop    |1097.33  |PA   |\n",
      "|2020-03-31    |Housing & Comm Development    |80.0     |VT   |\n",
      "|2020-03-31    |Corrections                   |400.0    |IL   |\n",
      "|2020-03-31    |Military                      |11183.43 |VT   |\n",
      "|2020-03-31    |Judiciary                     |250.0    |VT   |\n",
      "|2020-03-31    |Disabilities Aging Ind. Living|462.0    |VT   |\n",
      "+--------------+------------------------------+---------+-----+\n",
      "only showing top 20 rows\n",
      "\n"
     ]
    }
   ],
   "source": [
    "df\\\n",
    ".select(\"Quarter Ending\", \"Department\", \"Amount\", \"State\")\\\n",
    ".orderBy(col(\"Quarter Ending\").desc())\\\n",
    ".show(truncate = False)"
   ]
  },
  {
   "cell_type": "code",
   "execution_count": 18,
   "metadata": {},
   "outputs": [
    {
     "name": "stdout",
     "output_type": "stream",
     "text": [
      "+-------------------+-------------------+\n",
      "|Min. datetime      |Max. datetime      |\n",
      "+-------------------+-------------------+\n",
      "|2009-09-30 00:00:00|2020-03-31 00:00:00|\n",
      "+-------------------+-------------------+\n",
      "\n"
     ]
    }
   ],
   "source": [
    "df\\\n",
    ".withColumn(\"datetime\", col(\"Quarter Ending\").cast(\"timestamp\"))\\\n",
    ".groupBy()\\\n",
    ".agg(f_min(\"datetime\").alias('Min. datetime'), f_max(\"datetime\").alias('Max. datetime'))\\\n",
    ".show(truncate = False)"
   ]
  },
  {
   "cell_type": "code",
   "execution_count": 19,
   "metadata": {},
   "outputs": [
    {
     "name": "stdout",
     "output_type": "stream",
     "text": [
      "+--------------+---------------------+----------+-----+\n",
      "|Quarter Ending|Department           |Amount    |State|\n",
      "+--------------+---------------------+----------+-----+\n",
      "|2019-12-31    |Administration Agency|8000.0    |NY   |\n",
      "|2019-12-31    |Administration Agency|159.92    |VT   |\n",
      "|2019-12-31    |Libraries            |100.0     |VT   |\n",
      "|2019-12-31    |Administration Agency|71904.79  |PA   |\n",
      "|2019-12-31    |Libraries            |50.0      |VT   |\n",
      "|2019-12-31    |Administration Agency|100.0     |VT   |\n",
      "|2019-12-31    |Administration Agency|55850.0   |CA   |\n",
      "|2019-12-31    |Administration Agency|1194327.45|PA   |\n",
      "|2019-12-31    |Libraries            |100.0     |VT   |\n",
      "|2019-12-31    |Administration Agency|87500.0   |PA   |\n",
      "|2019-12-31    |Administration Agency|362.5     |VT   |\n",
      "|2019-12-31    |Administration Agency|50.0      |VT   |\n",
      "|2019-12-31    |Administration Agency|16.55     |VT   |\n",
      "|2019-12-31    |Administration Agency|31084.22  |VT   |\n",
      "|2019-12-31    |Administration Agency|100.0     |VT   |\n",
      "|2019-12-31    |Administration Agency|1299967.25|PA   |\n",
      "|2019-12-31    |Administration Agency|88128.0   |PA   |\n",
      "|2019-12-31    |Libraries            |100.0     |VT   |\n",
      "|2019-12-31    |Administration Agency|242704.95 |PA   |\n",
      "|2019-12-31    |Administration Agency|979.5     |VT   |\n",
      "+--------------+---------------------+----------+-----+\n",
      "only showing top 20 rows\n",
      "\n"
     ]
    }
   ],
   "source": [
    "df\\\n",
    ".filter(col(\"Quarter Ending\").between(\"2015-01-01 00:00:00\",\"2020-01-01 00:00:00\"))\\\n",
    ".select(\"Quarter Ending\", \"Department\", \"Amount\", \"State\")\\\n",
    ".orderBy(col(\"Quarter Ending\").desc())\\\n",
    ".show(truncate = False)"
   ]
  },
  {
   "cell_type": "code",
   "execution_count": 20,
   "metadata": {},
   "outputs": [
    {
     "name": "stdout",
     "output_type": "stream",
     "text": [
      "+--------------+---------------------+----------+-----+\n",
      "|Quarter Ending|Department           |Amount    |State|\n",
      "+--------------+---------------------+----------+-----+\n",
      "|2019-12-31    |Administration Agency|8000.0    |NY   |\n",
      "|2019-12-31    |Administration Agency|159.92    |VT   |\n",
      "|2019-12-31    |Libraries            |100.0     |VT   |\n",
      "|2019-12-31    |Administration Agency|71904.79  |PA   |\n",
      "|2019-12-31    |Libraries            |50.0      |VT   |\n",
      "|2019-12-31    |Administration Agency|100.0     |VT   |\n",
      "|2019-12-31    |Administration Agency|55850.0   |CA   |\n",
      "|2019-12-31    |Administration Agency|1194327.45|PA   |\n",
      "|2019-12-31    |Libraries            |100.0     |VT   |\n",
      "|2019-12-31    |Administration Agency|87500.0   |PA   |\n",
      "|2019-12-31    |Administration Agency|362.5     |VT   |\n",
      "|2019-12-31    |Administration Agency|50.0      |VT   |\n",
      "|2019-12-31    |Administration Agency|16.55     |VT   |\n",
      "|2019-12-31    |Administration Agency|31084.22  |VT   |\n",
      "|2019-12-31    |Administration Agency|100.0     |VT   |\n",
      "|2019-12-31    |Administration Agency|1299967.25|PA   |\n",
      "|2019-12-31    |Administration Agency|88128.0   |PA   |\n",
      "|2019-12-31    |Libraries            |100.0     |VT   |\n",
      "|2019-12-31    |Administration Agency|242704.95 |PA   |\n",
      "|2019-12-31    |Administration Agency|979.5     |VT   |\n",
      "+--------------+---------------------+----------+-----+\n",
      "only showing top 20 rows\n",
      "\n"
     ]
    }
   ],
   "source": [
    "df\\\n",
    ".filter(col(\"Quarter Ending\").between(pd.to_datetime(\"2015-01-01\"),pd.to_datetime(\"2020-01-01\")))\\\n",
    ".select(\"Quarter Ending\", \"Department\", \"Amount\", \"State\")\\\n",
    ".orderBy(col(\"Quarter Ending\").desc())\\\n",
    ".show(truncate = False)"
   ]
  },
  {
   "cell_type": "code",
   "execution_count": 21,
   "metadata": {},
   "outputs": [
    {
     "name": "stdout",
     "output_type": "stream",
     "text": [
      "+------+------------------------------+---------------------------------------+-----------------------------+\n",
      "|AcctNo|Account                       |Account_Desc                           |AccName                      |\n",
      "+------+------------------------------+---------------------------------------+-----------------------------+\n",
      "|513000|Rep&Maint-Info Tech Hardware  |513000 - Rep&Maint-Info Tech Hardware  |RepMaintInfo Tech Hardware   |\n",
      "|513000|Rep&Maint-Info Tech Hardware  |513000 - Rep&Maint-Info Tech Hardware  |RepMaintInfo Tech Hardware   |\n",
      "|517300|Freight & Express Mail        |517300 - Freight & Express Mail        |Freight  Express Mail        |\n",
      "|520200|Building Maintenance Supplies |520200 - Building Maintenance Supplies |Building Maintenance Supplies|\n",
      "|516659|Telecom-Wireless Phone Service|516659 - Telecom-Wireless Phone Service|TelecomWireless Phone Service|\n",
      "|516659|Telecom-Wireless Phone Service|516659 - Telecom-Wireless Phone Service|TelecomWireless Phone Service|\n",
      "|520500|Other General Supplies        |520500 - Other General Supplies        |Other General Supplies       |\n",
      "|521810|Medical and Lab Supplies      |521810 - Medical and Lab Supplies      |Medical and Lab Supplies     |\n",
      "|521810|Medical and Lab Supplies      |521810 - Medical and Lab Supplies      |Medical and Lab Supplies     |\n",
      "|521810|Medical and Lab Supplies      |521810 - Medical and Lab Supplies      |Medical and Lab Supplies     |\n",
      "|521810|Medical and Lab Supplies      |521810 - Medical and Lab Supplies      |Medical and Lab Supplies     |\n",
      "|521600|Road Supplies and Materials   |521600 - Road Supplies and Materials   |Road Supplies and Materials  |\n",
      "|521600|Road Supplies and Materials   |521600 - Road Supplies and Materials   |Road Supplies and Materials  |\n",
      "|521600|Road Supplies and Materials   |521600 - Road Supplies and Materials   |Road Supplies and Materials  |\n",
      "|507600|Other Contr and 3rd Pty Serv  |507600 - Other Contr and 3rd Pty Serv  |Other Contr and rd Pty Serv  |\n",
      "|513200|Other Repair & Maint Serv     |513200 - Other Repair & Maint Serv     |Other Repair  Maint Serv     |\n",
      "|513210|Repairs&Maint-Property/Grounds|513210 - Repairs&Maint-Property/Grounds|RepairsMaintPropertyGrounds  |\n",
      "|517205|Postage-BGS Postal Svcs Only  |517205 - Postage-BGS Postal Svcs Only  |PostageBGS Postal Svcs Only  |\n",
      "|520520|Cloth & Clothing              |520520 - Cloth & Clothing              |Cloth  Clothing              |\n",
      "|603500|Child Care Subsidy Employ/Trai|603500 - Child Care Subsidy Employ/Trai|Child Care Subsidy EmployTrai|\n",
      "+------+------------------------------+---------------------------------------+-----------------------------+\n",
      "only showing top 20 rows\n",
      "\n"
     ]
    }
   ],
   "source": [
    "df\\\n",
    ".select(\"AcctNo\", \"Account\")\\\n",
    ".withColumn(\"Account_Desc\", concat_ws('',col(\"AcctNo\"), lit(\" - \"), col(\"Account\")))\\\n",
    ".withColumn(\"AccName\", trim(regexp_replace(col(\"Account_Desc\"), \"[^a-z A-Z]\", \"\")))\\\n",
    ".show(truncate = False)"
   ]
  },
  {
   "cell_type": "code",
   "execution_count": 22,
   "metadata": {},
   "outputs": [
    {
     "name": "stdout",
     "output_type": "stream",
     "text": [
      "+----------------+---------------+------+\n",
      "|Fund Description|Amount         |Number|\n",
      "+----------------+---------------+------+\n",
      "|550000          |6.10001E9      |1     |\n",
      "|null            |1.50113710631E9|1     |\n",
      "|521320          |1.160550371E9  |1     |\n",
      "|521320          |1.160550371E9  |1     |\n",
      "|515000          |1.160550371E9  |1     |\n",
      "|520215          |1.160550371E9  |1     |\n",
      "|515000          |1.160550371E9  |1     |\n",
      "|512015          |1.160550371E9  |1     |\n",
      "|515000          |1.160550371E9  |1     |\n",
      "|519000          |1.160550371E9  |1     |\n",
      "|514500          |1.160550371E9  |1     |\n",
      "|514500          |1.160550371E9  |1     |\n",
      "|519000          |1.160550371E9  |1     |\n",
      "|520210          |1.160550371E9  |1     |\n",
      "|521320          |1.160550371E9  |1     |\n",
      "|520210          |1.160550371E9  |1     |\n",
      "|520211          |1.160550371E9  |1     |\n",
      "|521320          |1.160550371E9  |1     |\n",
      "|520500          |1.160550371E9  |1     |\n",
      "|521320          |1.160550371E9  |1     |\n",
      "+----------------+---------------+------+\n",
      "only showing top 20 rows\n",
      "\n"
     ]
    }
   ],
   "source": [
    "df\\\n",
    ".select(\"Fund Description\", \"Amount\")\\\n",
    ".withColumn(\"No\", lit(1))\\\n",
    ".sort(\"Amount\", ascending=False)\\\n",
    ".withColumnRenamed(\"No\", \"Number\")\\\n",
    ".show(truncate = False)"
   ]
  },
  {
   "cell_type": "code",
   "execution_count": 23,
   "metadata": {},
   "outputs": [
    {
     "name": "stdout",
     "output_type": "stream",
     "text": [
      "+----------------+-------------+\n",
      "|Fund Description|Amount       |\n",
      "+----------------+-------------+\n",
      "|550000          |6.10001E9    |\n",
      "|520200          |1.160550371E9|\n",
      "|521320          |1.160550371E9|\n",
      "|514600          |1.160550371E9|\n",
      "|520230          |1.160550371E9|\n",
      "|521320          |1.160550371E9|\n",
      "|520200          |1.160550371E9|\n",
      "|521320          |1.160550371E9|\n",
      "|514500          |1.160550371E9|\n",
      "|520200          |1.160550371E9|\n",
      "|521320          |1.160550371E9|\n",
      "|515000          |1.160550371E9|\n",
      "|512015          |1.160550371E9|\n",
      "|515000          |1.160550371E9|\n",
      "|515000          |1.160550371E9|\n",
      "|520211          |1.160550371E9|\n",
      "|521320          |1.160550371E9|\n",
      "|521320          |1.160550371E9|\n",
      "|521320          |1.160550371E9|\n",
      "|521320          |1.160550371E9|\n",
      "+----------------+-------------+\n",
      "only showing top 20 rows\n",
      "\n"
     ]
    }
   ],
   "source": [
    "df\\\n",
    ".select(\"Fund Description\", \"Amount\")\\\n",
    ".where(col(\"Fund Description\").isNotNull())\\\n",
    ".sort(\"Amount\", ascending=False)\\\n",
    ".show(truncate = False)"
   ]
  },
  {
   "cell_type": "code",
   "execution_count": 24,
   "metadata": {},
   "outputs": [
    {
     "name": "stdout",
     "output_type": "stream",
     "text": [
      "Row(avg(Amount)=185564.90298365554)\n",
      "185564.90298365554\n"
     ]
    }
   ],
   "source": [
    "row1 = df.agg({\"Amount\": \"mean\"}).collect()[0]\n",
    "print(row1)\n",
    "mean_amt = float(row1[\"avg(Amount)\"])\n",
    "print(mean_amt)"
   ]
  },
  {
   "cell_type": "code",
   "execution_count": 25,
   "metadata": {},
   "outputs": [
    {
     "name": "stdout",
     "output_type": "stream",
     "text": [
      "+-----+\n",
      "|State|\n",
      "+-----+\n",
      "|NB   |\n",
      "|NC   |\n",
      "|ND   |\n",
      "|NE   |\n",
      "|NF   |\n",
      "|NH   |\n",
      "|NJ   |\n",
      "|NL   |\n",
      "|NM   |\n",
      "|NS   |\n",
      "|NSW  |\n",
      "|NV   |\n",
      "|NY   |\n",
      "+-----+\n",
      "\n"
     ]
    }
   ],
   "source": [
    "state_df = (df\n",
    ".select(\"State\")\n",
    ".where(col(\"State\").isNotNull())\n",
    ".where(\"State like 'N%'\")\n",
    ".where(length(\"State\")<=3)\n",
    ".drop_duplicates()\n",
    ".sort(\"State\"))\n",
    "\n",
    "state_df.show(truncate = False)"
   ]
  },
  {
   "cell_type": "code",
   "execution_count": 26,
   "metadata": {},
   "outputs": [
    {
     "name": "stdout",
     "output_type": "stream",
     "text": [
      "+-----+-------+--------+--------+--------+\n",
      "|State|expr_if|when_col|func_udf|coalesce|\n",
      "+-----+-------+--------+--------+--------+\n",
      "|NB   |null   |null    |null    |0       |\n",
      "|NC   |null   |1       |null    |1       |\n",
      "|ND   |null   |null    |null    |0       |\n",
      "|NE   |null   |1       |null    |1       |\n",
      "|NF   |null   |null    |null    |0       |\n",
      "|NH   |1      |null    |null    |1       |\n",
      "|NJ   |null   |null    |null    |0       |\n",
      "|NL   |1      |null    |null    |1       |\n",
      "|NM   |null   |null    |null    |0       |\n",
      "|NS   |null   |null    |null    |0       |\n",
      "|NSW  |null   |null    |1       |1       |\n",
      "|NV   |null   |null    |null    |0       |\n",
      "|NY   |null   |null    |1       |1       |\n",
      "+-----+-------+--------+--------+--------+\n",
      "\n"
     ]
    }
   ],
   "source": [
    "def func(col1, col2):\n",
    "    if col1 == 'NSW' or col2 == 'NY':\n",
    "        return 1\n",
    "    return None\n",
    "\n",
    "func_udf = udf(func, IntegerType())\n",
    "\n",
    "state_df = (state_df\n",
    "            .withColumn(\"expr_if\", expr(\"IF(State=='NH' OR State=='NL', 1, NULL)\"))\n",
    "            .withColumn(\"when_col\", when((col(\"State\") =='NC') | (col(\"State\") =='NE'), 1).otherwise(None))\n",
    "            .withColumn(\"func_udf\", func_udf(col(\"State\"), col(\"State\")))\n",
    "            .withColumn('coalesce', coalesce(col(\"expr_if\"), col(\"when_col\"), col(\"func_udf\"), lit(0))))\n",
    "\n",
    "state_df.show(truncate = False)"
   ]
  },
  {
   "cell_type": "code",
   "execution_count": 27,
   "metadata": {},
   "outputs": [
    {
     "name": "stdout",
     "output_type": "stream",
     "text": [
      "+------------------------------+-------------+\n",
      "|Account                       |Amount       |\n",
      "+------------------------------+-------------+\n",
      "|Cost of DP Equip Sold         |139450.0     |\n",
      "|Cost of Pagers Sold           |18.8         |\n",
      "|Hardware-Printers,Copiers,Scan|282211.3     |\n",
      "|Physician                     |22355.8      |\n",
      "|TBI Waiver                    |1490319.82   |\n",
      "|235.84                        |1.160550362E9|\n",
      "|355.54                        |1.160550371E9|\n",
      "|4.13                          |1.160550371E9|\n",
      "|407.72                        |1.160550355E9|\n",
      "|45.51                         |1.160550371E9|\n",
      "|49.25                         |1.160550362E9|\n",
      "|Miscellaneous                 |170688.0     |\n",
      "|Older Blind Grant             |131200.0     |\n",
      "|Repair&Maint-Postage Meters   |3719.0       |\n",
      "|Substance Abuse Cert Program  |13387.5      |\n",
      "|136.00                        |1.160550264E9|\n",
      "|Agric, Hort, Wildlife         |35600.28     |\n",
      "|Environmental Lab Services    |144817.0     |\n",
      "|FQHC Planning & Development   |85000.0      |\n",
      "|HIV/AIDS Services             |112698.69    |\n",
      "+------------------------------+-------------+\n",
      "only showing top 20 rows\n",
      "\n"
     ]
    }
   ],
   "source": [
    "df\\\n",
    ".withColumn(\"row_number\", row_number().over(Window.partitionBy(\"Account\").orderBy(col(\"Amount\").desc())))\\\n",
    ".where(col(\"row_number\")==1) \\\n",
    ".drop(\"row_number\")\\\n",
    ".select(\"Account\", \"Amount\")\\\n",
    ".show(truncate = False)"
   ]
  },
  {
   "cell_type": "code",
   "execution_count": 28,
   "metadata": {},
   "outputs": [
    {
     "name": "stdout",
     "output_type": "stream",
     "text": [
      "+---------------------+\n",
      "|Department           |\n",
      "+---------------------+\n",
      "|Labor                |\n",
      "|Education            |\n",
      "|Children and Families|\n",
      "+---------------------+\n",
      "\n"
     ]
    }
   ],
   "source": [
    "df[col('Department').isin(['Labor', 'Education', 'Children and Families'])]\\\n",
    ".select(\"Department\")\\\n",
    ".distinct()\\\n",
    ".show(truncate = False)"
   ]
  },
  {
   "cell_type": "code",
   "execution_count": 29,
   "metadata": {},
   "outputs": [
    {
     "name": "stdout",
     "output_type": "stream",
     "text": [
      "+-----+-------+\n",
      "|State|count  |\n",
      "+-----+-------+\n",
      "|VT   |1286349|\n",
      "|MA   |70924  |\n",
      "|NY   |41691  |\n",
      "|IL   |41519  |\n",
      "|PA   |35053  |\n",
      "|NH   |31211  |\n",
      "|GA   |23337  |\n",
      "|ME   |16887  |\n",
      "|CT   |16425  |\n",
      "|CA   |13760  |\n",
      "|NJ   |11551  |\n",
      "|TX   |11179  |\n",
      "|MO   |11098  |\n",
      "|FL   |6412   |\n",
      "|MD   |5627   |\n",
      "|OH   |5184   |\n",
      "|KY   |5104   |\n",
      "|NC   |4321   |\n",
      "|VA   |4280   |\n",
      "|MN   |4257   |\n",
      "+-----+-------+\n",
      "only showing top 20 rows\n",
      "\n"
     ]
    }
   ],
   "source": [
    "df2 = (df\n",
    ".groupBy(\"State\")\n",
    ".count()\n",
    ".sort(\"count\", ascending=False))\n",
    "\n",
    "df2.show(truncate = False)"
   ]
  },
  {
   "cell_type": "code",
   "execution_count": 30,
   "metadata": {},
   "outputs": [
    {
     "name": "stdout",
     "output_type": "stream",
     "text": [
      "+-------+-------+\n",
      "|State  |count  |\n",
      "+-------+-------+\n",
      "|VT     |1286349|\n",
      "|MA     |70924  |\n",
      "|Unknown|41691  |\n",
      "|Unknown|41519  |\n",
      "|Unknown|35053  |\n",
      "|Unknown|31211  |\n",
      "|Unknown|23337  |\n",
      "|Unknown|16887  |\n",
      "|Unknown|16425  |\n",
      "|Unknown|13760  |\n",
      "+-------+-------+\n",
      "only showing top 10 rows\n",
      "\n"
     ]
    }
   ],
   "source": [
    "df2\\\n",
    ".withColumn(\"State\", when(col(\"State\") == \"VT\",\"VT\")\n",
    "                    .when(col(\"State\") == \"MA\",\"MA\")\n",
    "                    .otherwise(\"Unknown\"))\\\n",
    ".show(10, truncate=False)"
   ]
  },
  {
   "cell_type": "code",
   "execution_count": 31,
   "metadata": {},
   "outputs": [
    {
     "name": "stdout",
     "output_type": "stream",
     "text": [
      "+-----+-------+---------------+\n",
      "|State|count  |State aggregate|\n",
      "+-----+-------+---------------+\n",
      "|VT   |1286349|VT             |\n",
      "|MA   |70924  |MA             |\n",
      "|NY   |41691  |Unknown        |\n",
      "|IL   |41519  |Unknown        |\n",
      "|PA   |35053  |Unknown        |\n",
      "|NH   |31211  |Unknown        |\n",
      "|GA   |23337  |Unknown        |\n",
      "|ME   |16887  |Unknown        |\n",
      "|CT   |16425  |Unknown        |\n",
      "|CA   |13760  |Unknown        |\n",
      "+-----+-------+---------------+\n",
      "only showing top 10 rows\n",
      "\n"
     ]
    }
   ],
   "source": [
    "df2\\\n",
    ".withColumn(\"State aggregate\", expr(\"case when State = 'VT' then 'VT' \" + \n",
    "                           \"when State = 'MA' then 'MA' \" +\n",
    "                           \"else 'Unknown' end\"))\\\n",
    ".show(10, truncate=False)"
   ]
  },
  {
   "cell_type": "code",
   "execution_count": 32,
   "metadata": {},
   "outputs": [
    {
     "name": "stdout",
     "output_type": "stream",
     "text": [
      "+-------+\n",
      "| Amount|\n",
      "+-------+\n",
      "|6861.67|\n",
      "| 679.78|\n",
      "|   26.7|\n",
      "|  375.6|\n",
      "|1207.98|\n",
      "|1390.35|\n",
      "| 1501.5|\n",
      "|  194.7|\n",
      "| 295.39|\n",
      "|  305.0|\n",
      "+-------+\n",
      "only showing top 10 rows\n",
      "\n"
     ]
    }
   ],
   "source": [
    "df\\\n",
    ".select(\"Amount\")\\\n",
    ".distinct()\\\n",
    ".fillna({'Amount': 0})\\\n",
    ".show(10)"
   ]
  },
  {
   "cell_type": "code",
   "execution_count": 33,
   "metadata": {},
   "outputs": [
    {
     "data": {
      "text/plain": [
       "111"
      ]
     },
     "execution_count": 33,
     "metadata": {},
     "output_type": "execute_result"
    }
   ],
   "source": [
    "df\\\n",
    ".select(\"Department\")\\\n",
    ".distinct()\\\n",
    ".count()"
   ]
  },
  {
   "cell_type": "code",
   "execution_count": 34,
   "metadata": {},
   "outputs": [
    {
     "name": "stdout",
     "output_type": "stream",
     "text": [
      "+--------------------------+\n",
      "|count(DISTINCT Department)|\n",
      "+--------------------------+\n",
      "|110                       |\n",
      "+--------------------------+\n",
      "\n"
     ]
    }
   ],
   "source": [
    "df\\\n",
    ".selectExpr('count(distinct(Department))')\\\n",
    ".show(truncate=False)"
   ]
  },
  {
   "cell_type": "code",
   "execution_count": 35,
   "metadata": {
    "scrolled": true
   },
   "outputs": [
    {
     "name": "stdout",
     "output_type": "stream",
     "text": [
      "+--------------+---------------------------+------+-----+\n",
      "|Quarter Ending|Department                 |Amount|State|\n",
      "+--------------+---------------------------+------+-----+\n",
      "|2009-09-30    |Environmental Conservation |930.0 |NY   |\n",
      "|2009-09-30    |Environmental Conservation |930.0 |NY   |\n",
      "|2009-09-30    |Vermont Veterans' Home     |24.0  |CT   |\n",
      "|2009-09-30    |Vermont Veterans' Home     |420.0 |CT   |\n",
      "|2009-09-30    |Corrections                |270.8 |PA   |\n",
      "|2009-09-30    |Corrections                |35.0  |PA   |\n",
      "|2009-09-30    |Public Safety              |971.4 |PA   |\n",
      "|2009-09-30    |Agriculture, Food & Markets|60.59 |TX   |\n",
      "|2009-09-30    |Agriculture, Food & Markets|541.62|TX   |\n",
      "|2009-09-30    |Health                     |283.98|PA   |\n",
      "+--------------+---------------------------+------+-----+\n",
      "\n"
     ]
    }
   ],
   "source": [
    "# I will start by creating a temporary table\n",
    "df.createOrReplaceTempView('VermontVendor')\n",
    "# spark.catalog.dropTempView('VermontVendor')\n",
    "\n",
    "# run query with SQL\n",
    "sql = \"\"\"\n",
    "SELECT `Quarter Ending`, Department, Amount, State FROM VermontVendor\n",
    "LIMIT 10\n",
    "\"\"\"\n",
    "\n",
    "spark.sql(sql).show(truncate = False)"
   ]
  },
  {
   "cell_type": "code",
   "execution_count": 36,
   "metadata": {},
   "outputs": [],
   "source": [
    "def parametrize_sql_query(sql_path, sql_query_name, steering_dict):\n",
    "    #function parametrize given query from sql directory using steering dictionary.\n",
    "    #Each key from dictionary in sql is replaced with value from dictionary.\n",
    "    with open(sql_path+sql_query_name+\".sql\") as sql_file:\n",
    "        sql_query = sql_file.read()\n",
    "    if bool(steering_dict):\n",
    "        for key in steering_dict.iterkeys():\n",
    "            sql_query=sql_query.replace(key, steering_dict[key])\n",
    "    return sql_query"
   ]
  },
  {
   "cell_type": "code",
   "execution_count": 37,
   "metadata": {},
   "outputs": [
    {
     "name": "stdout",
     "output_type": "stream",
     "text": [
      "SELECT `Quarter Ending`, Department, Amount, State FROM VermontVendor\n"
     ]
    }
   ],
   "source": [
    "sql = parametrize_sql_query(\"\", \"my_select\", dict())\n",
    "print(sql)"
   ]
  },
  {
   "cell_type": "code",
   "execution_count": 38,
   "metadata": {},
   "outputs": [
    {
     "name": "stdout",
     "output_type": "stream",
     "text": [
      "+--------------+---------------------------+------+-----+\n",
      "|Quarter Ending|Department                 |Amount|State|\n",
      "+--------------+---------------------------+------+-----+\n",
      "|2009-09-30    |Environmental Conservation |930.0 |NY   |\n",
      "|2009-09-30    |Environmental Conservation |930.0 |NY   |\n",
      "|2009-09-30    |Vermont Veterans' Home     |24.0  |CT   |\n",
      "|2009-09-30    |Vermont Veterans' Home     |420.0 |CT   |\n",
      "|2009-09-30    |Corrections                |270.8 |PA   |\n",
      "|2009-09-30    |Corrections                |35.0  |PA   |\n",
      "|2009-09-30    |Public Safety              |971.4 |PA   |\n",
      "|2009-09-30    |Agriculture, Food & Markets|60.59 |TX   |\n",
      "|2009-09-30    |Agriculture, Food & Markets|541.62|TX   |\n",
      "|2009-09-30    |Health                     |283.98|PA   |\n",
      "+--------------+---------------------------+------+-----+\n",
      "\n"
     ]
    }
   ],
   "source": [
    "spark.sql(sql).limit(10).show(truncate = False)"
   ]
  },
  {
   "cell_type": "code",
   "execution_count": 39,
   "metadata": {},
   "outputs": [
    {
     "name": "stdout",
     "output_type": "stream",
     "text": [
      "+---------------------+----------+\n",
      "|Unique Vendor Numbers|Total rows|\n",
      "+---------------------+----------+\n",
      "|57965                |1680170   |\n",
      "+---------------------+----------+\n",
      "\n"
     ]
    }
   ],
   "source": [
    "sql = \"\"\"\n",
    "SELECT count(distinct `Vendor Number`) as `Unique Vendor Numbers`\n",
    ", count(1) as `Total rows`\n",
    "FROM VermontVendor\n",
    "\"\"\"\n",
    "\n",
    "spark.sql(sql).show(truncate = False)"
   ]
  },
  {
   "cell_type": "code",
   "execution_count": 40,
   "metadata": {
    "scrolled": true
   },
   "outputs": [
    {
     "name": "stdout",
     "output_type": "stream",
     "text": [
      "+--------------+----------+-------+-----+\n",
      "|Quarter Ending|Department|Amount |State|\n",
      "+--------------+----------+-------+-----+\n",
      "|2009-09-30    |Education |9423.36|VT   |\n",
      "|2009-09-30    |Education |110.03 |IL   |\n",
      "|2009-09-30    |Education |332.58 |IL   |\n",
      "|2009-09-30    |Education |60.08  |IL   |\n",
      "|2009-09-30    |Education |284.83 |IL   |\n",
      "|2009-09-30    |Education |377.15 |IL   |\n",
      "|2009-09-30    |Education |114.74 |IL   |\n",
      "|2009-09-30    |Education |129.72 |IL   |\n",
      "|2009-09-30    |Education |114.54 |IL   |\n",
      "|2009-09-30    |Education |375.6  |IL   |\n",
      "+--------------+----------+-------+-----+\n",
      "\n"
     ]
    }
   ],
   "source": [
    "sql = \"\"\"SELECT `Quarter Ending`, Department, Amount, State FROM VermontVendor \n",
    "WHERE Department = 'Education'\n",
    "LIMIT 10\"\"\"\n",
    "\n",
    "spark.sql(sql).show(truncate = False)"
   ]
  },
  {
   "cell_type": "code",
   "execution_count": 41,
   "metadata": {},
   "outputs": [
    {
     "name": "stdout",
     "output_type": "stream",
     "text": [
      "+--------------+----------+---------+-----+\n",
      "|Quarter Ending|Department|Amount   |State|\n",
      "+--------------+----------+---------+-----+\n",
      "|2009-09-30    |Education |9423.36  |VT   |\n",
      "|2009-09-30    |Education |110.03   |IL   |\n",
      "|2009-09-30    |Education |332.58   |IL   |\n",
      "|2009-09-30    |Education |60.08    |IL   |\n",
      "|2009-09-30    |Education |284.83   |IL   |\n",
      "|2009-09-30    |Education |377.15   |IL   |\n",
      "|2009-09-30    |Education |114.74   |IL   |\n",
      "|2009-09-30    |Education |129.72   |IL   |\n",
      "|2009-09-30    |Education |114.54   |IL   |\n",
      "|2009-09-30    |Education |375.6    |IL   |\n",
      "|2009-09-30    |Education |192.64   |IL   |\n",
      "|2009-09-30    |Education |317.68   |IL   |\n",
      "|2009-12-31    |Education |105.48   |VT   |\n",
      "|2009-09-30    |Education |1570.35  |IL   |\n",
      "|2009-09-30    |Education |46107.75 |VT   |\n",
      "|2009-09-30    |Education |4500.0   |VT   |\n",
      "|2009-09-30    |Education |122659.28|VT   |\n",
      "|2009-09-30    |Education |1529.99  |VT   |\n",
      "|2009-09-30    |Education |101730.57|VT   |\n",
      "|2009-09-30    |Education |2322.0   |VT   |\n",
      "+--------------+----------+---------+-----+\n",
      "only showing top 20 rows\n",
      "\n"
     ]
    }
   ],
   "source": [
    "df\\\n",
    ".filter(col('Amount') >= 0)\\\n",
    ".filter(col('Department')=='Education')\\\n",
    ".select('Quarter Ending', 'Department', 'Amount', 'State')\\\n",
    ".show(truncate = False)"
   ]
  },
  {
   "cell_type": "code",
   "execution_count": 42,
   "metadata": {},
   "outputs": [
    {
     "name": "stdout",
     "output_type": "stream",
     "text": [
      "+----------------------------+--------------------+-----------+--------------+\n",
      "|Department                  |Total Amount        |Min. Amount|Max. Amount   |\n",
      "+----------------------------+--------------------+-----------+--------------+\n",
      "|Labor                       |7.700329007E7       |-276477.0  |916448.4      |\n",
      "|Vermont Health Access       |7.652163011169998E9 |-911984.81 |2.2817681887E8|\n",
      "|Public Service Board        |4055801.5999999996  |-858.0     |136425.85     |\n",
      "|Natural Resources Agency    |3.2574205670000017E7|-2095.0    |1388871.33    |\n",
      "|Children and Family Services|1.2813687507000024E9|-149374.07 |1.860655902E7 |\n",
      "|Aging and Independent Living|7.893938401199996E8 |-4913.2    |3.982599825E7 |\n",
      "|Education                   |3.1669726986399956E9|-444159.36 |5752647.86    |\n",
      "|Administration Agency       |6.668231414800001E8 |-2055.0    |3.154938928E7 |\n",
      "|Children and Families       |1.9263854047699993E9|-251657.66 |1.539365522E7 |\n",
      "|DLL - Div of Liquor Control |1.5744910309999997E7|-19139.2   |1028128.0     |\n",
      "|Finance & Management-FMS    |6086495.5           |-175.0     |768119.26     |\n",
      "|State Treasurer-Fiduciary   |2.5927613519999993E8|-2602.02   |7617208.08    |\n",
      "|Office of VT Health Access  |1.4660943494399998E9|-1036941.82|1.4427529598E8|\n",
      "|Human Rights Commission     |875838.4699999999   |-1291.34   |31042.39      |\n",
      "|Transportation Agency       |2.8910350080100045E9|-926250.0  |1.957263375E7 |\n",
      "|Secretary of State          |1.2994913350000005E7|-419.84    |263540.9      |\n",
      "|Housing & Comm Affairs      |8.149393503999992E7 |-3005.0    |1743051.74    |\n",
      "|AOT Proprietary Funds       |5.707869816000001E7 |-16067.0   |2835575.76    |\n",
      "|Vermont Lottery Commission  |2.9645439400000006E7|-82159.88  |819682.41     |\n",
      "|Vermont Veterans' Home      |2.1592901500000045E7|-17015.0   |343078.5      |\n",
      "+----------------------------+--------------------+-----------+--------------+\n",
      "only showing top 20 rows\n",
      "\n"
     ]
    }
   ],
   "source": [
    "df\\\n",
    ".groupBy('Department')\\\n",
    ".agg(f_sum('Amount').alias('Total Amount'),\\\n",
    "     f_min('Amount').alias('Min. Amount'),\\\n",
    "     f_max('Amount').alias('Max. Amount'))\\\n",
    ".show(truncate = False)"
   ]
  },
  {
   "cell_type": "code",
   "execution_count": 43,
   "metadata": {},
   "outputs": [
    {
     "name": "stdout",
     "output_type": "stream",
     "text": [
      "+------------------------------+--------------+\n",
      "|Department                    |Number of rows|\n",
      "+------------------------------+--------------+\n",
      "|Transportation Agency         |163552        |\n",
      "|Children and Families         |130847        |\n",
      "|Agency of Transportation      |102395        |\n",
      "|Buildings & Gen Serv-Prop     |98528         |\n",
      "|Children and Family Services  |94097         |\n",
      "|Corrections                   |76231         |\n",
      "|Health                        |73193         |\n",
      "|Judiciary                     |63311         |\n",
      "|Public Safety                 |58697         |\n",
      "|Education Agency              |47785         |\n",
      "|Fish & Wildlife               |47504         |\n",
      "|Education                     |44489         |\n",
      "|Environmental Conservation    |32947         |\n",
      "|Tax                           |31695         |\n",
      "|Disabilities Aging Ind. Living|26214         |\n",
      "|Forests, Parks & Recreation   |25859         |\n",
      "|Defender General's Office     |23200         |\n",
      "|Buildings & Gen Serv-Gov'tal  |21263         |\n",
      "|Aging and Independent Living  |19831         |\n",
      "|Agriculture, Food&Mrkts Agency|19623         |\n",
      "+------------------------------+--------------+\n",
      "only showing top 20 rows\n",
      "\n"
     ]
    }
   ],
   "source": [
    "df\\\n",
    ".groupBy('Department')\\\n",
    ".count()\\\n",
    ".sort('count', ascending=False)\\\n",
    ".withColumnRenamed('count','Number of rows')\\\n",
    ".show(truncate = False)"
   ]
  },
  {
   "cell_type": "code",
   "execution_count": 44,
   "metadata": {},
   "outputs": [
    {
     "name": "stdout",
     "output_type": "stream",
     "text": [
      "+----------------------------+--------------------+\n",
      "|Department                  |Sum of Amount       |\n",
      "+----------------------------+--------------------+\n",
      "|Labor                       |7.700329007E7       |\n",
      "|Vermont Health Access       |7.652163011169998E9 |\n",
      "|Public Service Board        |4055801.5999999996  |\n",
      "|Natural Resources Agency    |3.2574205670000017E7|\n",
      "|Children and Family Services|1.2813687507000024E9|\n",
      "|Aging and Independent Living|7.893938401199996E8 |\n",
      "|Education                   |3.1669726986399956E9|\n",
      "|Administration Agency       |6.668231414800001E8 |\n",
      "|Children and Families       |1.9263854047699993E9|\n",
      "|DLL - Div of Liquor Control |1.5744910309999997E7|\n",
      "|Finance & Management-FMS    |6086495.5           |\n",
      "|State Treasurer-Fiduciary   |2.5927613519999993E8|\n",
      "|Office of VT Health Access  |1.4660943494399998E9|\n",
      "|Human Rights Commission     |875838.4699999999   |\n",
      "|Transportation Agency       |2.8910350080100045E9|\n",
      "|Secretary of State          |1.2994913350000005E7|\n",
      "|Housing & Comm Affairs      |8.149393503999992E7 |\n",
      "|AOT Proprietary Funds       |5.707869816000001E7 |\n",
      "|Vermont Lottery Commission  |2.9645439400000006E7|\n",
      "|Vermont Veterans' Home      |2.1592901500000045E7|\n",
      "+----------------------------+--------------------+\n",
      "only showing top 20 rows\n",
      "\n"
     ]
    }
   ],
   "source": [
    "df\\\n",
    ".groupBy('Department')\\\n",
    ".sum('Amount')\\\n",
    ".withColumnRenamed('sum(Amount)','Sum of Amount')\\\n",
    ".show(truncate = False)"
   ]
  },
  {
   "cell_type": "code",
   "execution_count": 45,
   "metadata": {},
   "outputs": [
    {
     "name": "stdout",
     "output_type": "stream",
     "text": [
      "+----------+--------------------+\n",
      "|Department|Sum of Amount       |\n",
      "+----------+--------------------+\n",
      "|Education |3.1669726986399956E9|\n",
      "+----------+--------------------+\n",
      "\n"
     ]
    }
   ],
   "source": [
    "df\\\n",
    ".filter(df.Department == 'Education')\\\n",
    ".groupBy('Department')\\\n",
    ".sum('Amount')\\\n",
    ".withColumnRenamed('sum(Amount)','Sum of Amount')\\\n",
    ".show(truncate = False)"
   ]
  },
  {
   "cell_type": "code",
   "execution_count": 46,
   "metadata": {},
   "outputs": [
    {
     "name": "stdout",
     "output_type": "stream",
     "text": [
      "+----------------------------+--------------------+\n",
      "|Department                  |Sum of Amount       |\n",
      "+----------------------------+--------------------+\n",
      "|Labor                       |7.700329007E7       |\n",
      "|Vermont Health Access       |7.652163011169998E9 |\n",
      "|Public Service Board        |4055801.5999999996  |\n",
      "|Natural Resources Agency    |3.2574205670000017E7|\n",
      "|Children and Family Services|1.2813687507000024E9|\n",
      "|Aging and Independent Living|7.893938401199996E8 |\n",
      "|Administration Agency       |6.668231414800001E8 |\n",
      "|Children and Families       |1.9263854047699993E9|\n",
      "|DLL - Div of Liquor Control |1.5744910309999997E7|\n",
      "|Finance & Management-FMS    |6086495.5           |\n",
      "|State Treasurer-Fiduciary   |2.5927613519999993E8|\n",
      "|Office of VT Health Access  |1.4660943494399998E9|\n",
      "|Human Rights Commission     |875838.4699999999   |\n",
      "|Transportation Agency       |2.8910350080100045E9|\n",
      "|Secretary of State          |1.2994913350000005E7|\n",
      "|Housing & Comm Affairs      |8.149393503999992E7 |\n",
      "|AOT Proprietary Funds       |5.707869816000001E7 |\n",
      "|Vermont Lottery Commission  |2.9645439400000006E7|\n",
      "|Vermont Veterans' Home      |2.1592901500000045E7|\n",
      "|Green Mountain Care Board   |2.309796615000001E7 |\n",
      "+----------------------------+--------------------+\n",
      "only showing top 20 rows\n",
      "\n"
     ]
    }
   ],
   "source": [
    "df\\\n",
    ".filter(df.Department != 'Education')\\\n",
    ".groupBy('Department')\\\n",
    ".sum('Amount')\\\n",
    ".withColumnRenamed('sum(Amount)','Sum of Amount')\\\n",
    ".show(truncate = False)"
   ]
  },
  {
   "cell_type": "code",
   "execution_count": 47,
   "metadata": {
    "scrolled": true
   },
   "outputs": [
    {
     "name": "stdout",
     "output_type": "stream",
     "text": [
      "+----------------------------+--------------------+------------------+\n",
      "|Department                  |Sum of Amount       |Amount in millions|\n",
      "+----------------------------+--------------------+------------------+\n",
      "|Labor                       |7.700329007E7       |77.00329006999999 |\n",
      "|Vermont Health Access       |7.652163011169998E9 |7652.163011169998 |\n",
      "|Public Service Board        |4055801.5999999996  |4.0558016         |\n",
      "|Natural Resources Agency    |3.2574205670000017E7|32.57420567000002 |\n",
      "|Children and Family Services|1.2813687507000024E9|1281.3687507000025|\n",
      "|Aging and Independent Living|7.893938401199996E8 |789.3938401199996 |\n",
      "|Education                   |3.1669726986399956E9|3166.9726986399955|\n",
      "|Administration Agency       |6.668231414800001E8 |666.8231414800001 |\n",
      "|Children and Families       |1.9263854047699993E9|1926.3854047699992|\n",
      "|DLL - Div of Liquor Control |1.5744910309999997E7|15.744910309999996|\n",
      "+----------------------------+--------------------+------------------+\n",
      "only showing top 10 rows\n",
      "\n"
     ]
    }
   ],
   "source": [
    "df\\\n",
    ".groupBy('Department')\\\n",
    ".sum('Amount')\\\n",
    ".withColumnRenamed('sum(Amount)','Sum of Amount')\\\n",
    ".withColumn('Amount in millions', col('Sum of Amount')/1000000)\\\n",
    ".show(10, truncate = False)"
   ]
  },
  {
   "cell_type": "code",
   "execution_count": 48,
   "metadata": {},
   "outputs": [
    {
     "name": "stdout",
     "output_type": "stream",
     "text": [
      "+----------+\n",
      "|Department|\n",
      "+----------+\n",
      "|Education |\n",
      "+----------+\n",
      "\n"
     ]
    }
   ],
   "source": [
    "a = (df\n",
    "     .filter((\"Department = 'Education' or Department = 'Labor'\"))\n",
    "     .select('Department'))\n",
    "b = (df\n",
    "     .filter((\"Department = 'Education' or Department = 'Corrections'\"))\n",
    "     .select('Department'))\n",
    "\n",
    "a.intersect(b)\\\n",
    ".distinct()\\\n",
    ".show(truncate = False)"
   ]
  },
  {
   "cell_type": "code",
   "execution_count": 49,
   "metadata": {},
   "outputs": [
    {
     "name": "stdout",
     "output_type": "stream",
     "text": [
      "+-----------+\n",
      "|Department |\n",
      "+-----------+\n",
      "|Labor      |\n",
      "|Education  |\n",
      "|Corrections|\n",
      "+-----------+\n",
      "\n"
     ]
    }
   ],
   "source": [
    "a.unionAll(b)\\\n",
    ".distinct()\\\n",
    ".show(truncate = False)"
   ]
  },
  {
   "cell_type": "code",
   "execution_count": 50,
   "metadata": {},
   "outputs": [
    {
     "name": "stdout",
     "output_type": "stream",
     "text": [
      "+----------+\n",
      "|Department|\n",
      "+----------+\n",
      "|Labor     |\n",
      "+----------+\n",
      "\n"
     ]
    }
   ],
   "source": [
    "a.exceptAll(b)\\\n",
    ".distinct()\\\n",
    ".show(truncate = False)"
   ]
  },
  {
   "cell_type": "code",
   "execution_count": 51,
   "metadata": {},
   "outputs": [],
   "source": [
    "top5 = (df\n",
    "        .groupBy(\"Department\")\n",
    "        .agg(f_sum('Amount').alias('Sum of Amount'))\n",
    "        .sort('Sum of Amount', ascending=False)\n",
    "        .limit(5))"
   ]
  },
  {
   "cell_type": "code",
   "execution_count": 52,
   "metadata": {},
   "outputs": [
    {
     "data": {
      "text/html": [
       "<div>\n",
       "<style scoped>\n",
       "    .dataframe tbody tr th:only-of-type {\n",
       "        vertical-align: middle;\n",
       "    }\n",
       "\n",
       "    .dataframe tbody tr th {\n",
       "        vertical-align: top;\n",
       "    }\n",
       "\n",
       "    .dataframe thead th {\n",
       "        text-align: right;\n",
       "    }\n",
       "</style>\n",
       "<table border=\"1\" class=\"dataframe\">\n",
       "  <thead>\n",
       "    <tr style=\"text-align: right;\">\n",
       "      <th></th>\n",
       "      <th>Department</th>\n",
       "      <th>Sum of Amount</th>\n",
       "    </tr>\n",
       "  </thead>\n",
       "  <tbody>\n",
       "    <tr>\n",
       "      <th>0</th>\n",
       "      <td>Buildings &amp; Gen Serv-Prop</td>\n",
       "      <td>2.569996e+11</td>\n",
       "    </tr>\n",
       "    <tr>\n",
       "      <th>1</th>\n",
       "      <td>Vermont Health Access</td>\n",
       "      <td>7.652163e+09</td>\n",
       "    </tr>\n",
       "    <tr>\n",
       "      <th>2</th>\n",
       "      <td>Natural Res Central Office</td>\n",
       "      <td>6.115936e+09</td>\n",
       "    </tr>\n",
       "    <tr>\n",
       "      <th>3</th>\n",
       "      <td>Education Agency</td>\n",
       "      <td>5.207510e+09</td>\n",
       "    </tr>\n",
       "    <tr>\n",
       "      <th>4</th>\n",
       "      <td>Education</td>\n",
       "      <td>3.166973e+09</td>\n",
       "    </tr>\n",
       "  </tbody>\n",
       "</table>\n",
       "</div>"
      ],
      "text/plain": [
       "                   Department  Sum of Amount\n",
       "0   Buildings & Gen Serv-Prop   2.569996e+11\n",
       "1       Vermont Health Access   7.652163e+09\n",
       "2  Natural Res Central Office   6.115936e+09\n",
       "3            Education Agency   5.207510e+09\n",
       "4                   Education   3.166973e+09"
      ]
     },
     "execution_count": 52,
     "metadata": {},
     "output_type": "execute_result"
    }
   ],
   "source": [
    "top5.toPandas().head()"
   ]
  },
  {
   "cell_type": "code",
   "execution_count": 53,
   "metadata": {},
   "outputs": [
    {
     "data": {
      "image/png": "[encoded data removed]",
      "text/plain": [
       "<Figure size 720x432 with 1 Axes>"
      ]
     },
     "metadata": {
      "needs_background": "light"
     },
     "output_type": "display_data"
    }
   ],
   "source": [
    "sql = \"\"\"SELECT Department, SUM(Amount) as Total FROM VermontVendor \n",
    "GROUP BY Department\n",
    "ORDER BY Total DESC\n",
    "LIMIT 10\"\"\"\n",
    "\n",
    "plot_df = spark.sql(sql).toPandas()\n",
    "\n",
    "fig,ax = plt.subplots(1,1,figsize=(10,6))\n",
    "plot_df.plot(x = 'Department', y = 'Total', kind = 'barh', color = 'C0', ax = ax, legend = False)\n",
    "ax.set_xlabel('Department', size = 16)\n",
    "ax.set_ylabel('Total', size = 16)\n",
    "plt.savefig('barplot.png')\n",
    "plt.show()"
   ]
  },
  {
   "cell_type": "code",
   "execution_count": 54,
   "metadata": {},
   "outputs": [
    {
     "name": "stderr",
     "output_type": "stream",
     "text": [
      "/opt/conda/lib/python3.8/site-packages/seaborn/distributions.py:2557: FutureWarning: `distplot` is a deprecated function and will be removed in a future version. Please adapt your code to use either `displot` (a figure-level function with similar flexibility) or `histplot` (an axes-level function for histograms).\n",
      "  warnings.warn(msg, FutureWarning)\n"
     ]
    },
    {
     "data": {
      "image/png": "[encoded data removed]",
      "text/plain": [
       "<Figure size 720x432 with 1 Axes>"
      ]
     },
     "metadata": {
      "needs_background": "light"
     },
     "output_type": "display_data"
    }
   ],
   "source": [
    "import numpy as np\n",
    "import seaborn as sns\n",
    "\n",
    "sql = \"\"\"SELECT Department, SUM(Amount) as Total FROM VermontVendor \n",
    "GROUP BY Department\"\"\"\n",
    "\n",
    "plot_df = spark.sql(sql).toPandas()\n",
    "\n",
    "plt.figure(figsize = (10,6))\n",
    "sns.distplot(np.log(plot_df['Total']))\n",
    "plt.title('Histogram of Log Totals for all Departments in Dataset', size = 16)\n",
    "plt.ylabel('Density', size = 16)\n",
    "plt.xlabel('Log Total', size = 16)\n",
    "plt.savefig('distplot.png')\n",
    "plt.show()"
   ]
  },
  {
   "cell_type": "code",
   "execution_count": 55,
   "metadata": {},
   "outputs": [
    {
     "name": "stdout",
     "output_type": "stream",
     "text": [
      "SELECT `Quarter Ending`, Department, Amount, State FROM VermontVendor\n",
      "+--------------+---------------------------+------+-----+\n",
      "|Quarter Ending|Department                 |Amount|State|\n",
      "+--------------+---------------------------+------+-----+\n",
      "|2009-09-30    |Environmental Conservation |930.0 |NY   |\n",
      "|2009-09-30    |Environmental Conservation |930.0 |NY   |\n",
      "|2009-09-30    |Vermont Veterans' Home     |24.0  |CT   |\n",
      "|2009-09-30    |Vermont Veterans' Home     |420.0 |CT   |\n",
      "|2009-09-30    |Corrections                |270.8 |PA   |\n",
      "|2009-09-30    |Corrections                |35.0  |PA   |\n",
      "|2009-09-30    |Public Safety              |971.4 |PA   |\n",
      "|2009-09-30    |Agriculture, Food & Markets|60.59 |TX   |\n",
      "|2009-09-30    |Agriculture, Food & Markets|541.62|TX   |\n",
      "|2009-09-30    |Health                     |283.98|PA   |\n",
      "+--------------+---------------------------+------+-----+\n",
      "\n"
     ]
    }
   ],
   "source": [
    "sql = parametrize_sql_query(\"\", \"my_select\", dict())\n",
    "print(sql)\n",
    "\n",
    "df = spark.sql(sql).limit(10)\n",
    "df.show(truncate = False)"
   ]
  },
  {
   "cell_type": "code",
   "execution_count": 56,
   "metadata": {},
   "outputs": [],
   "source": [
    "df.write.format('csv')\\\n",
    ".option('header', True)\\\n",
    ".mode('overwrite')\\\n",
    ".option('sep',',')\\\n",
    ".save('df_output.csv')"
   ]
  }
 ],
 "metadata": {
  "kernelspec": {
   "display_name": "Python 3",
   "language": "python",
   "name": "python3"
  },
  "language_info": {
   "codemirror_mode": {
    "name": "ipython",
    "version": 3
   },
   "file_extension": ".py",
   "mimetype": "text/x-python",
   "name": "python",
   "nbconvert_exporter": "python",
   "pygments_lexer": "ipython3",
   "version": "3.8.8"
  }
 },
 "nbformat": 4,
 "nbformat_minor": 2
}
