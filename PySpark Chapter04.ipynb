{
 "cells": [
  {
   "cell_type": "code",
   "execution_count": 1,
   "metadata": {},
   "outputs": [],
   "source": [
    "import pandas as pd  \n",
    "import numpy as np\n",
    "import scipy as sp\n",
    "import matplotlib\n",
    "import matplotlib.pyplot as plt\n",
    "import seaborn as sns\n",
    "from IPython.display import display\n",
    "%matplotlib inline"
   ]
  },
  {
   "cell_type": "code",
   "execution_count": 2,
   "metadata": {},
   "outputs": [],
   "source": [
    "import pyspark\n",
    "from pyspark.sql import SparkSession"
   ]
  },
  {
   "cell_type": "code",
   "execution_count": 3,
   "metadata": {},
   "outputs": [],
   "source": [
    "spark = SparkSession.builder\\\n",
    "       .master(\"local[*]\")\\\n",
    "       .appName(\"Spark_App\")\\\n",
    "       .getOrCreate()"
   ]
  },
  {
   "cell_type": "code",
   "execution_count": 4,
   "metadata": {},
   "outputs": [
    {
     "name": "stdout",
     "output_type": "stream",
     "text": [
      "+-----------+--------+------+--------------------+------+----+-----+-----+----------------+-------+-----+--------+\n",
      "|PassengerId|Survived|Pclass|                Name|   Sex| Age|SibSp|Parch|          Ticket|   Fare|Cabin|Embarked|\n",
      "+-----------+--------+------+--------------------+------+----+-----+-----+----------------+-------+-----+--------+\n",
      "|          1|       0|     3|Braund, Mr. Owen ...|  male|22.0|    1|    0|       A/5 21171|   7.25| null|       S|\n",
      "|          2|       1|     1|Cumings, Mrs. Joh...|female|38.0|    1|    0|        PC 17599|71.2833|  C85|       C|\n",
      "|          3|       1|     3|Heikkinen, Miss. ...|female|26.0|    0|    0|STON/O2. 3101282|  7.925| null|       S|\n",
      "|          4|       1|     1|Futrelle, Mrs. Ja...|female|35.0|    1|    0|          113803|   53.1| C123|       S|\n",
      "|          5|       0|     3|Allen, Mr. Willia...|  male|35.0|    0|    0|          373450|   8.05| null|       S|\n",
      "|          6|       0|     3|    Moran, Mr. James|  male|null|    0|    0|          330877| 8.4583| null|       Q|\n",
      "|          7|       0|     1|McCarthy, Mr. Tim...|  male|54.0|    0|    0|           17463|51.8625|  E46|       S|\n",
      "|          8|       0|     3|Palsson, Master. ...|  male| 2.0|    3|    1|          349909| 21.075| null|       S|\n",
      "|          9|       1|     3|Johnson, Mrs. Osc...|female|27.0|    0|    2|          347742|11.1333| null|       S|\n",
      "|         10|       1|     2|Nasser, Mrs. Nich...|female|14.0|    1|    0|          237736|30.0708| null|       C|\n",
      "|         11|       1|     3|Sandstrom, Miss. ...|female| 4.0|    1|    1|         PP 9549|   16.7|   G6|       S|\n",
      "|         12|       1|     1|Bonnell, Miss. El...|female|58.0|    0|    0|          113783|  26.55| C103|       S|\n",
      "|         13|       0|     3|Saundercock, Mr. ...|  male|20.0|    0|    0|       A/5. 2151|   8.05| null|       S|\n",
      "|         14|       0|     3|Andersson, Mr. An...|  male|39.0|    1|    5|          347082| 31.275| null|       S|\n",
      "|         15|       0|     3|Vestrom, Miss. Hu...|female|14.0|    0|    0|          350406| 7.8542| null|       S|\n",
      "|         16|       1|     2|Hewlett, Mrs. (Ma...|female|55.0|    0|    0|          248706|   16.0| null|       S|\n",
      "|         17|       0|     3|Rice, Master. Eugene|  male| 2.0|    4|    1|          382652| 29.125| null|       Q|\n",
      "|         18|       1|     2|Williams, Mr. Cha...|  male|null|    0|    0|          244373|   13.0| null|       S|\n",
      "|         19|       0|     3|Vander Planke, Mr...|female|31.0|    1|    0|          345763|   18.0| null|       S|\n",
      "|         20|       1|     3|Masselmani, Mrs. ...|female|null|    0|    0|            2649|  7.225| null|       C|\n",
      "+-----------+--------+------+--------------------+------+----+-----+-----+----------------+-------+-----+--------+\n",
      "only showing top 20 rows\n",
      "\n"
     ]
    }
   ],
   "source": [
    "titanic = spark.read.csv('titanic.csv', header='true', inferSchema='true', sep=',')\n",
    "titanic.show()"
   ]
  },
  {
   "cell_type": "code",
   "execution_count": 5,
   "metadata": {},
   "outputs": [
    {
     "name": "stdout",
     "output_type": "stream",
     "text": [
      "root\n",
      " |-- PassengerId: integer (nullable = true)\n",
      " |-- Survived: integer (nullable = true)\n",
      " |-- Pclass: integer (nullable = true)\n",
      " |-- Name: string (nullable = true)\n",
      " |-- Sex: string (nullable = true)\n",
      " |-- Age: double (nullable = true)\n",
      " |-- SibSp: integer (nullable = true)\n",
      " |-- Parch: integer (nullable = true)\n",
      " |-- Ticket: string (nullable = true)\n",
      " |-- Fare: double (nullable = true)\n",
      " |-- Cabin: string (nullable = true)\n",
      " |-- Embarked: string (nullable = true)\n",
      "\n"
     ]
    }
   ],
   "source": [
    "titanic.printSchema()"
   ]
  },
  {
   "cell_type": "code",
   "execution_count": 6,
   "metadata": {},
   "outputs": [],
   "source": [
    "columns_to_drop = ['PassengerId', 'Name', 'Ticket', 'Cabin']\n",
    "titanic = titanic.drop(*columns_to_drop)"
   ]
  },
  {
   "cell_type": "code",
   "execution_count": 7,
   "metadata": {},
   "outputs": [
    {
     "name": "stdout",
     "output_type": "stream",
     "text": [
      "+--------+------+------+----+-----+-----+-------+--------+\n",
      "|Survived|Pclass|   Sex| Age|SibSp|Parch|   Fare|Embarked|\n",
      "+--------+------+------+----+-----+-----+-------+--------+\n",
      "|       0|     3|  male|22.0|    1|    0|   7.25|       S|\n",
      "|       1|     1|female|38.0|    1|    0|71.2833|       C|\n",
      "|       1|     3|female|26.0|    0|    0|  7.925|       S|\n",
      "|       1|     1|female|35.0|    1|    0|   53.1|       S|\n",
      "|       0|     3|  male|35.0|    0|    0|   8.05|       S|\n",
      "|       0|     3|  male|null|    0|    0| 8.4583|       Q|\n",
      "|       0|     1|  male|54.0|    0|    0|51.8625|       S|\n",
      "|       0|     3|  male| 2.0|    3|    1| 21.075|       S|\n",
      "|       1|     3|female|27.0|    0|    2|11.1333|       S|\n",
      "|       1|     2|female|14.0|    1|    0|30.0708|       C|\n",
      "|       1|     3|female| 4.0|    1|    1|   16.7|       S|\n",
      "|       1|     1|female|58.0|    0|    0|  26.55|       S|\n",
      "|       0|     3|  male|20.0|    0|    0|   8.05|       S|\n",
      "|       0|     3|  male|39.0|    1|    5| 31.275|       S|\n",
      "|       0|     3|female|14.0|    0|    0| 7.8542|       S|\n",
      "|       1|     2|female|55.0|    0|    0|   16.0|       S|\n",
      "|       0|     3|  male| 2.0|    4|    1| 29.125|       Q|\n",
      "|       1|     2|  male|null|    0|    0|   13.0|       S|\n",
      "|       0|     3|female|31.0|    1|    0|   18.0|       S|\n",
      "|       1|     3|female|null|    0|    0|  7.225|       C|\n",
      "+--------+------+------+----+-----+-----+-------+--------+\n",
      "only showing top 20 rows\n",
      "\n"
     ]
    }
   ],
   "source": [
    "titanic.show()"
   ]
  },
  {
   "cell_type": "code",
   "execution_count": 8,
   "metadata": {},
   "outputs": [],
   "source": [
    "from pyspark.sql import functions as Fun\n",
    "\n",
    "EmbarkedMean = titanic.groupBy(\"Embarked\")\\\n",
    "    .agg(Fun.mean(\"Survived\").alias(\"EmbarkedMean\")) \\\n",
    "    .sort(\"EmbarkedMean\", ascending=False)"
   ]
  },
  {
   "cell_type": "code",
   "execution_count": 9,
   "metadata": {},
   "outputs": [
    {
     "name": "stdout",
     "output_type": "stream",
     "text": [
      "+--------+-------------------+\n",
      "|Embarked|       EmbarkedMean|\n",
      "+--------+-------------------+\n",
      "|    null|                1.0|\n",
      "|       C| 0.5535714285714286|\n",
      "|       Q|0.38961038961038963|\n",
      "|       S|0.33695652173913043|\n",
      "+--------+-------------------+\n",
      "\n"
     ]
    }
   ],
   "source": [
    "EmbarkedMean.show()"
   ]
  },
  {
   "cell_type": "code",
   "execution_count": 10,
   "metadata": {},
   "outputs": [],
   "source": [
    "titanic = titanic.join(EmbarkedMean, on=['Embarked'], how='inner')"
   ]
  },
  {
   "cell_type": "code",
   "execution_count": 11,
   "metadata": {},
   "outputs": [
    {
     "name": "stdout",
     "output_type": "stream",
     "text": [
      "+--------+--------+------+------+----+-----+-----+-------+-------------------+\n",
      "|Embarked|Survived|Pclass|   Sex| Age|SibSp|Parch|   Fare|       EmbarkedMean|\n",
      "+--------+--------+------+------+----+-----+-----+-------+-------------------+\n",
      "|       S|       0|     3|  male|22.0|    1|    0|   7.25|0.33695652173913043|\n",
      "|       C|       1|     1|female|38.0|    1|    0|71.2833| 0.5535714285714286|\n",
      "|       S|       1|     3|female|26.0|    0|    0|  7.925|0.33695652173913043|\n",
      "|       S|       1|     1|female|35.0|    1|    0|   53.1|0.33695652173913043|\n",
      "|       S|       0|     3|  male|35.0|    0|    0|   8.05|0.33695652173913043|\n",
      "|       Q|       0|     3|  male|null|    0|    0| 8.4583|0.38961038961038963|\n",
      "|       S|       0|     1|  male|54.0|    0|    0|51.8625|0.33695652173913043|\n",
      "|       S|       0|     3|  male| 2.0|    3|    1| 21.075|0.33695652173913043|\n",
      "|       S|       1|     3|female|27.0|    0|    2|11.1333|0.33695652173913043|\n",
      "|       C|       1|     2|female|14.0|    1|    0|30.0708| 0.5535714285714286|\n",
      "|       S|       1|     3|female| 4.0|    1|    1|   16.7|0.33695652173913043|\n",
      "|       S|       1|     1|female|58.0|    0|    0|  26.55|0.33695652173913043|\n",
      "|       S|       0|     3|  male|20.0|    0|    0|   8.05|0.33695652173913043|\n",
      "|       S|       0|     3|  male|39.0|    1|    5| 31.275|0.33695652173913043|\n",
      "|       S|       0|     3|female|14.0|    0|    0| 7.8542|0.33695652173913043|\n",
      "|       S|       1|     2|female|55.0|    0|    0|   16.0|0.33695652173913043|\n",
      "|       Q|       0|     3|  male| 2.0|    4|    1| 29.125|0.38961038961038963|\n",
      "|       S|       1|     2|  male|null|    0|    0|   13.0|0.33695652173913043|\n",
      "|       S|       0|     3|female|31.0|    1|    0|   18.0|0.33695652173913043|\n",
      "|       C|       1|     3|female|null|    0|    0|  7.225| 0.5535714285714286|\n",
      "+--------+--------+------+------+----+-----+-----+-------+-------------------+\n",
      "only showing top 20 rows\n",
      "\n"
     ]
    }
   ],
   "source": [
    "titanic.show()"
   ]
  },
  {
   "cell_type": "code",
   "execution_count": 12,
   "metadata": {},
   "outputs": [],
   "source": [
    "titanic = titanic.drop('Embarked')"
   ]
  },
  {
   "cell_type": "code",
   "execution_count": 13,
   "metadata": {},
   "outputs": [],
   "source": [
    "AgeMean = titanic.groupBy().mean(\"Age\").collect()[0][0]"
   ]
  },
  {
   "cell_type": "code",
   "execution_count": 14,
   "metadata": {},
   "outputs": [],
   "source": [
    "AgeMean = int(AgeMean)"
   ]
  },
  {
   "cell_type": "code",
   "execution_count": 15,
   "metadata": {},
   "outputs": [],
   "source": [
    "titanic = titanic.na.fill(AgeMean, \"Age\")"
   ]
  },
  {
   "cell_type": "code",
   "execution_count": 16,
   "metadata": {},
   "outputs": [
    {
     "name": "stdout",
     "output_type": "stream",
     "text": [
      "+--------+------+----+-----+-----+-------+-------------------+-------------+\n",
      "|Survived|Pclass| Age|SibSp|Parch|   Fare|       EmbarkedMean|  SexEncoding|\n",
      "+--------+------+----+-----+-----+-------+-------------------+-------------+\n",
      "|       0|     3|22.0|    1|    0|   7.25|0.33695652173913043|(1,[0],[1.0])|\n",
      "|       1|     1|38.0|    1|    0|71.2833| 0.5535714285714286|    (1,[],[])|\n",
      "|       1|     3|26.0|    0|    0|  7.925|0.33695652173913043|    (1,[],[])|\n",
      "|       1|     1|35.0|    1|    0|   53.1|0.33695652173913043|    (1,[],[])|\n",
      "|       0|     3|35.0|    0|    0|   8.05|0.33695652173913043|(1,[0],[1.0])|\n",
      "|       0|     3|29.0|    0|    0| 8.4583|0.38961038961038963|(1,[0],[1.0])|\n",
      "|       0|     1|54.0|    0|    0|51.8625|0.33695652173913043|(1,[0],[1.0])|\n",
      "|       0|     3| 2.0|    3|    1| 21.075|0.33695652173913043|(1,[0],[1.0])|\n",
      "|       1|     3|27.0|    0|    2|11.1333|0.33695652173913043|    (1,[],[])|\n",
      "|       1|     2|14.0|    1|    0|30.0708| 0.5535714285714286|    (1,[],[])|\n",
      "|       1|     3| 4.0|    1|    1|   16.7|0.33695652173913043|    (1,[],[])|\n",
      "|       1|     1|58.0|    0|    0|  26.55|0.33695652173913043|    (1,[],[])|\n",
      "|       0|     3|20.0|    0|    0|   8.05|0.33695652173913043|(1,[0],[1.0])|\n",
      "|       0|     3|39.0|    1|    5| 31.275|0.33695652173913043|(1,[0],[1.0])|\n",
      "|       0|     3|14.0|    0|    0| 7.8542|0.33695652173913043|    (1,[],[])|\n",
      "|       1|     2|55.0|    0|    0|   16.0|0.33695652173913043|    (1,[],[])|\n",
      "|       0|     3| 2.0|    4|    1| 29.125|0.38961038961038963|(1,[0],[1.0])|\n",
      "|       1|     2|29.0|    0|    0|   13.0|0.33695652173913043|(1,[0],[1.0])|\n",
      "|       0|     3|31.0|    1|    0|   18.0|0.33695652173913043|    (1,[],[])|\n",
      "|       1|     3|29.0|    0|    0|  7.225| 0.5535714285714286|    (1,[],[])|\n",
      "+--------+------+----+-----+-----+-------+-------------------+-------------+\n",
      "only showing top 20 rows\n",
      "\n"
     ]
    }
   ],
   "source": [
    "from pyspark.ml.feature import StringIndexer, OneHotEncoder, VectorAssembler\n",
    "\n",
    "stringIndexer = StringIndexer()\\\n",
    "  .setInputCol(\"Sex\")\\\n",
    "  .setOutputCol(\"SexIndex\")\n",
    "\n",
    "model = stringIndexer.fit(titanic)\n",
    "indexed = model.transform(titanic)\n",
    "\n",
    "encoder = OneHotEncoder(inputCol=\"SexIndex\", outputCol=\"SexEncoding\")\n",
    "encoded = encoder.transform(indexed)\n",
    "encoded = encoded.drop('Sex')\n",
    "encoded = encoded.drop('SexIndex')\n",
    "titanic = encoded\n",
    "titanic.show()"
   ]
  },
  {
   "cell_type": "code",
   "execution_count": 17,
   "metadata": {},
   "outputs": [
    {
     "name": "stdout",
     "output_type": "stream",
     "text": [
      "+--------+------+-----+-----+-------------------+-------------+------------------+------------------+\n",
      "|Survived|Pclass|SibSp|Parch|       EmbarkedMean|  SexEncoding|            AgeLog|           FareLog|\n",
      "+--------+------+-----+-----+-------------------+-------------+------------------+------------------+\n",
      "|       0|     3|    1|    0|0.33695652173913043|(1,[0],[1.0])| 3.091042453358316|1.9810014688665833|\n",
      "|       1|     1|    1|    0| 0.5535714285714286|    (1,[],[])|3.6375861597263857|  4.26666207838721|\n",
      "|       1|     3|    0|    0|0.33695652173913043|    (1,[],[])| 3.258096538021482|2.0700223197633445|\n",
      "|       1|     1|    1|    0|0.33695652173913043|    (1,[],[])|3.5553480614894135|3.9721769282478934|\n",
      "|       0|     3|    0|    0|0.33695652173913043|(1,[0],[1.0])|3.5553480614894135|2.0856720914304723|\n",
      "|       0|     3|    0|    0|0.38961038961038963|(1,[0],[1.0])| 3.367295829986474| 2.135148207799377|\n",
      "|       0|     1|    0|    0|0.33695652173913043|(1,[0],[1.0])|3.9889840465642745| 3.948595985658986|\n",
      "|       0|     3|    3|    1|0.33695652173913043|(1,[0],[1.0])|0.6931471805599453| 3.048087503887919|\n",
      "|       1|     3|    0|    2|0.33695652173913043|    (1,[],[])| 3.295836866004329| 2.409940617298087|\n",
      "|       1|     2|    1|    0| 0.5535714285714286|    (1,[],[])|2.6390573296152584|3.4035546012358333|\n",
      "|       1|     3|    1|    1|0.33695652173913043|    (1,[],[])|1.3862943611198906|2.8154087194227095|\n",
      "|       1|     1|    0|    0|0.33695652173913043|    (1,[],[])| 4.060443010546419| 3.279029747687948|\n",
      "|       0|     3|    0|    0|0.33695652173913043|(1,[0],[1.0])| 2.995732273553991|2.0856720914304723|\n",
      "|       0|     3|    1|    5|0.33695652173913043|(1,[0],[1.0])|3.6635616461296463| 3.442819056352975|\n",
      "|       0|     3|    0|    0|0.33695652173913043|    (1,[],[])|2.6390573296152584| 2.061048420562944|\n",
      "|       1|     2|    0|    0|0.33695652173913043|    (1,[],[])| 4.007333185232471| 2.772588722239781|\n",
      "|       0|     3|    4|    1|0.38961038961038963|(1,[0],[1.0])|0.6931471805599453| 3.371596911885865|\n",
      "|       1|     2|    0|    0|0.33695652173913043|(1,[0],[1.0])| 3.367295829986474|2.5649493574615367|\n",
      "|       0|     3|    1|    0|0.33695652173913043|    (1,[],[])|3.4339872044851463|2.8903717578961645|\n",
      "|       1|     3|    0|    0| 0.5535714285714286|    (1,[],[])| 3.367295829986474|1.9775472339984959|\n",
      "+--------+------+-----+-----+-------------------+-------------+------------------+------------------+\n",
      "only showing top 20 rows\n",
      "\n"
     ]
    }
   ],
   "source": [
    "from pyspark.sql.functions import col, log\n",
    "\n",
    "titanic = titanic.withColumn(\"AgeLog\", log(col(\"Age\")))\n",
    "titanic = titanic.withColumn(\"FareLog\", log(col(\"Fare\")))\n",
    "titanic = titanic.drop('Age')\n",
    "titanic = titanic.drop('Fare')\n",
    "titanic.show()"
   ]
  },
  {
   "cell_type": "code",
   "execution_count": 18,
   "metadata": {},
   "outputs": [],
   "source": [
    "titanic = titanic.dropna()"
   ]
  },
  {
   "cell_type": "code",
   "execution_count": 19,
   "metadata": {},
   "outputs": [],
   "source": [
    "titanic = VectorAssembler(inputCols=['Pclass', 'AgeLog', 'SibSp', 'Parch', 'FareLog', 'EmbarkedMean',  'SexEncoding'], \\\n",
    "        outputCol='features')\\\n",
    "        .transform(titanic)\n",
    "\n",
    "titanic = titanic.withColumnRenamed('Survived', 'label')\n",
    "\n",
    "titanic = titanic.select(\"features\", \"label\")"
   ]
  },
  {
   "cell_type": "code",
   "execution_count": 20,
   "metadata": {},
   "outputs": [
    {
     "name": "stdout",
     "output_type": "stream",
     "text": [
      "+--------------------+-----+\n",
      "|            features|label|\n",
      "+--------------------+-----+\n",
      "|[3.0,3.0910424533...|    0|\n",
      "|[1.0,3.6375861597...|    1|\n",
      "|[3.0,3.2580965380...|    1|\n",
      "|[1.0,3.5553480614...|    1|\n",
      "|[3.0,3.5553480614...|    0|\n",
      "|[3.0,3.3672958299...|    0|\n",
      "|[1.0,3.9889840465...|    0|\n",
      "|[3.0,0.6931471805...|    0|\n",
      "|[3.0,3.2958368660...|    1|\n",
      "|[2.0,2.6390573296...|    1|\n",
      "|[3.0,1.3862943611...|    1|\n",
      "|[1.0,4.0604430105...|    1|\n",
      "|[3.0,2.9957322735...|    0|\n",
      "|[3.0,3.6635616461...|    0|\n",
      "|[3.0,2.6390573296...|    0|\n",
      "|[2.0,4.0073331852...|    1|\n",
      "|[3.0,0.6931471805...|    0|\n",
      "|[2.0,3.3672958299...|    1|\n",
      "|[3.0,3.4339872044...|    0|\n",
      "|[3.0,3.3672958299...|    1|\n",
      "+--------------------+-----+\n",
      "only showing top 20 rows\n",
      "\n"
     ]
    }
   ],
   "source": [
    "train, test = titanic.randomSplit([0.7, 0.3], seed = 2020)\n",
    "titanic.show()"
   ]
  },
  {
   "cell_type": "code",
   "execution_count": 21,
   "metadata": {},
   "outputs": [],
   "source": [
    "from pyspark.ml.classification import LogisticRegression\n",
    "lr = LogisticRegression(featuresCol='features', labelCol='label')"
   ]
  },
  {
   "cell_type": "code",
   "execution_count": 22,
   "metadata": {},
   "outputs": [],
   "source": [
    "model = lr.fit(train)"
   ]
  },
  {
   "cell_type": "code",
   "execution_count": 23,
   "metadata": {},
   "outputs": [
    {
     "name": "stdout",
     "output_type": "stream",
     "text": [
      "Coefficients: [-1.0954819671405007,-1.0651336317715174,-0.5588420068938585,-0.23957032345460166,0.03844884615523674,2.019081749217657,-2.7571391140722175]\n",
      "Intercept: 6.620199453535127\n"
     ]
    }
   ],
   "source": [
    "print(\"Coefficients: \" + str(model.coefficients))\n",
    "print(\"Intercept: \" + str(model.intercept))"
   ]
  },
  {
   "cell_type": "code",
   "execution_count": 24,
   "metadata": {},
   "outputs": [],
   "source": [
    "trainingSummary = model.summary"
   ]
  },
  {
   "cell_type": "code",
   "execution_count": 25,
   "metadata": {},
   "outputs": [
    {
     "name": "stdout",
     "output_type": "stream",
     "text": [
      "+--------------------+-------------------+\n",
      "|                 FPR|                TPR|\n",
      "+--------------------+-------------------+\n",
      "|                 0.0|                0.0|\n",
      "|                 0.0|0.02145922746781116|\n",
      "|                 0.0|0.04291845493562232|\n",
      "|                 0.0|0.06437768240343347|\n",
      "|                 0.0|0.08583690987124463|\n",
      "|                 0.0| 0.1072961373390558|\n",
      "|                 0.0|0.12875536480686695|\n",
      "|                 0.0|0.15021459227467812|\n",
      "|0.002638522427440633|0.16738197424892703|\n",
      "|0.002638522427440633| 0.1888412017167382|\n",
      "|0.002638522427440633|0.21030042918454936|\n",
      "|0.002638522427440633| 0.2317596566523605|\n",
      "|0.002638522427440633| 0.2532188841201717|\n",
      "|0.002638522427440633|0.27467811158798283|\n",
      "|0.002638522427440633|  0.296137339055794|\n",
      "|0.005277044854881266| 0.3133047210300429|\n",
      "|  0.0079155672823219|0.33476394849785407|\n",
      "|  0.0079155672823219| 0.3605150214592275|\n",
      "|  0.0079155672823219|0.38197424892703863|\n",
      "|  0.0079155672823219| 0.4034334763948498|\n",
      "+--------------------+-------------------+\n",
      "only showing top 20 rows\n",
      "\n",
      "Train Area Under ROC:0.8566931273851446\n"
     ]
    }
   ],
   "source": [
    "trainingSummary.roc.show()\n",
    "print(\"Train Area Under ROC:\" + str(trainingSummary.areaUnderROC))"
   ]
  },
  {
   "cell_type": "code",
   "execution_count": 26,
   "metadata": {},
   "outputs": [
    {
     "name": "stdout",
     "output_type": "stream",
     "text": [
      "The area under ROC for train set is 0.856410024120398\n",
      "The area under ROC for test set is 0.8751511852926951\n"
     ]
    }
   ],
   "source": [
    "from pyspark.ml.evaluation import BinaryClassificationEvaluator\n",
    "\n",
    "evaluator=BinaryClassificationEvaluator(rawPredictionCol=\"rawPrediction\",labelCol=\"label\")\n",
    "predict_train=model.transform(train)\n",
    "predict_test=model.transform(test)\n",
    "\n",
    "print(\"The area under ROC for train set is {}\".format(evaluator.evaluate(predict_train)))\n",
    "print(\"The area under ROC for test set is {}\".format(evaluator.evaluate(predict_test)))"
   ]
  },
  {
   "cell_type": "code",
   "execution_count": 27,
   "metadata": {},
   "outputs": [
    {
     "data": {
      "image/png": "[encoded data removed]",
      "text/plain": [
       "<Figure size 432x288 with 1 Axes>"
      ]
     },
     "metadata": {
      "needs_background": "light"
     },
     "output_type": "display_data"
    }
   ],
   "source": [
    "roc = trainingSummary.roc.toPandas()\n",
    "\n",
    "plt.plot(roc['FPR'],roc['TPR'])\n",
    "plt.ylabel('False Positive Rate')\n",
    "plt.xlabel('True Positive Rate')\n",
    "plt.title('ROC Curve')\n",
    "plt.show()"
   ]
  },
  {
   "cell_type": "code",
   "execution_count": 28,
   "metadata": {},
   "outputs": [
    {
     "data": {
      "image/png": "[encoded data removed]",
      "text/plain": [
       "<Figure size 432x288 with 1 Axes>"
      ]
     },
     "metadata": {
      "needs_background": "light"
     },
     "output_type": "display_data"
    }
   ],
   "source": [
    "pr = trainingSummary.pr.toPandas()\n",
    "plt.plot(pr['recall'],pr['precision'])\n",
    "plt.ylabel('Precision')\n",
    "plt.xlabel('Recall')\n",
    "plt.show()"
   ]
  },
  {
   "cell_type": "code",
   "execution_count": 29,
   "metadata": {},
   "outputs": [
    {
     "name": "stdout",
     "output_type": "stream",
     "text": [
      "+--------------------+----------+--------------------+-----+--------------------+\n",
      "|       rawPrediction|prediction|         probability|label|            features|\n",
      "+--------------------+----------+--------------------+-----+--------------------+\n",
      "|[-4.6218316337304...|       1.0|[0.00973898522552...|    0|[1.0,0.6931471805...|\n",
      "|[-0.0399331148068...|       1.0|[0.49001804774274...|    1|[1.0,2.3978952727...|\n",
      "|[-3.1535644878167...|       1.0|[0.04095105697196...|    1|[1.0,2.7725887222...|\n",
      "|[-3.6057811937387...|       1.0|[0.02644772974709...|    1|[1.0,2.7725887222...|\n",
      "|[-0.5694284326549...|       1.0|[0.36136872149061...|    1|[1.0,2.8332133440...|\n",
      "|[-2.7839180802806...|       1.0|[0.05819942462169...|    1|[1.0,2.8332133440...|\n",
      "|[-3.1996113811799...|       1.0|[0.03918034982976...|    1|[1.0,2.9444389791...|\n",
      "|[1.62972362221771...|       0.0|[0.83613177427369...|    0|[1.0,2.9444389791...|\n",
      "|[-2.0169269664764...|       1.0|[0.11743712316249...|    1|[1.0,3.0445224377...|\n",
      "|[-0.7816931677043...|       1.0|[0.31395508443215...|    0|[1.0,3.0910424533...|\n",
      "|[-3.0209358803712...|       1.0|[0.04648897143423...|    1|[1.0,3.0910424533...|\n",
      "|[-2.5152803148719...|       1.0|[0.07479389154238...|    1|[1.0,3.0910424533...|\n",
      "|[-2.9257171696919...|       1.0|[0.05089681525722...|    1|[1.0,3.1354942159...|\n",
      "|[-0.9239161336524...|       1.0|[0.28416062749838...|    1|[1.0,3.1354942159...|\n",
      "|[-3.4203347525634...|       1.0|[0.03166596217514...|    1|[1.0,3.1780538303...|\n",
      "|[-3.4273440200520...|       1.0|[0.03145173950214...|    1|[1.0,3.1780538303...|\n",
      "|[-0.4725726075876...|       1.0|[0.38400752292130...|    0|[1.0,3.1780538303...|\n",
      "|[-0.0522943192117...|       1.0|[0.48692939873786...|    1|[1.0,3.2188758248...|\n",
      "|[0.01342884844753...|       0.0|[0.50335716166117...|    0|[1.0,3.3672958299...|\n",
      "|[-0.4290499950508...|       1.0|[0.39435320678023...|    1|[1.0,3.3672958299...|\n",
      "+--------------------+----------+--------------------+-----+--------------------+\n",
      "only showing top 20 rows\n",
      "\n"
     ]
    }
   ],
   "source": [
    "predictions = model.transform(test)\n",
    "\n",
    "predictions.select(\"rawPrediction\", \"prediction\", \"probability\", \"label\", \"features\").show()"
   ]
  },
  {
   "cell_type": "code",
   "execution_count": 30,
   "metadata": {},
   "outputs": [],
   "source": [
    "from pyspark.ml.tuning import ParamGridBuilder, CrossValidator\n",
    "paramGrid = ParamGridBuilder()\\\n",
    "    .addGrid(lr.aggregationDepth,[2,5,10])\\\n",
    "    .addGrid(lr.elasticNetParam,[0.0, 0.5, 1.0])\\\n",
    "    .addGrid(lr.fitIntercept,[False, True])\\\n",
    "    .addGrid(lr.maxIter,[10, 100, 1000])\\\n",
    "    .addGrid(lr.regParam,[0.01, 0.5, 2.0]) \\\n",
    "    .build()"
   ]
  },
  {
   "cell_type": "code",
   "execution_count": 31,
   "metadata": {},
   "outputs": [
    {
     "name": "stdout",
     "output_type": "stream",
     "text": [
      "The area under ROC for train set after CV  is 0.8550964249719725\n",
      "The area under ROC for test set after CV  is 0.87844702467344\n"
     ]
    }
   ],
   "source": [
    "# Create 5-fold CrossValidator\n",
    "cv = CrossValidator(estimator=lr, estimatorParamMaps=paramGrid, evaluator=evaluator, numFolds=5)\n",
    "# Run cross validations\n",
    "cvModel = cv.fit(train)\n",
    "# this will likely take a fair amount of time because of the amount of models that we're creating and testing\n",
    "predict_train=cvModel.transform(train)\n",
    "predict_test=cvModel.transform(test)\n",
    "print(\"The area under ROC for train set after CV  is {}\".format(evaluator.evaluate(predict_train)))\n",
    "print(\"The area under ROC for test set after CV  is {}\".format(evaluator.evaluate(predict_test)))"
   ]
  },
  {
   "cell_type": "code",
   "execution_count": 32,
   "metadata": {},
   "outputs": [
    {
     "name": "stdout",
     "output_type": "stream",
     "text": [
      "Get default metric for the binary classification evaluator is areaUnderROC\n",
      "The area under ROC for test set after CV  is 0.87844702467344\n"
     ]
    }
   ],
   "source": [
    "bestModel = cvModel.bestModel\n",
    "finalPredictions = bestModel.transform(test)\n",
    "print(\"Get default metric for the binary classification evaluator is \"+evaluator.getMetricName())\n",
    "print(\"The area under ROC for test set after CV  is {}\".format(evaluator.evaluate(finalPredictions)))"
   ]
  },
  {
   "cell_type": "code",
   "execution_count": 33,
   "metadata": {},
   "outputs": [
    {
     "name": "stdout",
     "output_type": "stream",
     "text": [
      "Test Area Under ROC 0.8751511852926951\n"
     ]
    }
   ],
   "source": [
    "from pyspark.ml.evaluation import BinaryClassificationEvaluator\n",
    "\n",
    "evaluator = BinaryClassificationEvaluator()\n",
    "print('Test Area Under ROC', evaluator.evaluate(predictions))"
   ]
  },
  {
   "cell_type": "code",
   "execution_count": 34,
   "metadata": {},
   "outputs": [
    {
     "name": "stdout",
     "output_type": "stream",
     "text": [
      "+-------------+----------+--------------------+-----+--------------------+\n",
      "|rawPrediction|prediction|         probability|label|            features|\n",
      "+-------------+----------+--------------------+-----+--------------------+\n",
      "|   [1.0,59.0]|       1.0|[0.01666666666666...|    0|[1.0,0.6931471805...|\n",
      "|  [33.0,24.0]|       0.0|[0.57894736842105...|    1|[1.0,2.3978952727...|\n",
      "|   [1.0,59.0]|       1.0|[0.01666666666666...|    1|[1.0,2.7725887222...|\n",
      "|   [1.0,59.0]|       1.0|[0.01666666666666...|    1|[1.0,2.7725887222...|\n",
      "|  [33.0,24.0]|       0.0|[0.57894736842105...|    1|[1.0,2.8332133440...|\n",
      "|   [1.0,59.0]|       1.0|[0.01666666666666...|    1|[1.0,2.8332133440...|\n",
      "|   [3.0,42.0]|       1.0|[0.06666666666666...|    1|[1.0,2.9444389791...|\n",
      "|  [33.0,24.0]|       0.0|[0.57894736842105...|    0|[1.0,2.9444389791...|\n",
      "|   [1.0,59.0]|       1.0|[0.01666666666666...|    1|[1.0,3.0445224377...|\n",
      "|  [33.0,24.0]|       0.0|[0.57894736842105...|    0|[1.0,3.0910424533...|\n",
      "|   [1.0,59.0]|       1.0|[0.01666666666666...|    1|[1.0,3.0910424533...|\n",
      "|   [1.0,59.0]|       1.0|[0.01666666666666...|    1|[1.0,3.0910424533...|\n",
      "|   [1.0,59.0]|       1.0|[0.01666666666666...|    1|[1.0,3.1354942159...|\n",
      "|   [1.0,59.0]|       1.0|[0.01666666666666...|    1|[1.0,3.1354942159...|\n",
      "|   [1.0,59.0]|       1.0|[0.01666666666666...|    1|[1.0,3.1780538303...|\n",
      "|   [1.0,59.0]|       1.0|[0.01666666666666...|    1|[1.0,3.1780538303...|\n",
      "|  [33.0,24.0]|       0.0|[0.57894736842105...|    0|[1.0,3.1780538303...|\n",
      "|  [33.0,24.0]|       0.0|[0.57894736842105...|    1|[1.0,3.2188758248...|\n",
      "|  [33.0,24.0]|       0.0|[0.57894736842105...|    0|[1.0,3.3672958299...|\n",
      "|  [33.0,24.0]|       0.0|[0.57894736842105...|    1|[1.0,3.3672958299...|\n",
      "+-------------+----------+--------------------+-----+--------------------+\n",
      "only showing top 20 rows\n",
      "\n"
     ]
    }
   ],
   "source": [
    "from pyspark.ml.classification import DecisionTreeClassifier\n",
    "\n",
    "dt = DecisionTreeClassifier(featuresCol = 'features', labelCol = 'label')\n",
    "dtModel = dt.fit(train)\n",
    "predictions = dtModel.transform(test)\n",
    "predictions.select(\"rawPrediction\", \"prediction\", \"probability\", \"label\", \"features\").show()"
   ]
  },
  {
   "cell_type": "code",
   "execution_count": 35,
   "metadata": {},
   "outputs": [
    {
     "name": "stdout",
     "output_type": "stream",
     "text": [
      "Test Area Under ROC: 0.5206821480406387\n"
     ]
    }
   ],
   "source": [
    "evaluator = BinaryClassificationEvaluator()\n",
    "print(\"Test Area Under ROC: \" + str(evaluator.evaluate(predictions, {evaluator.metricName: \"areaUnderROC\"})))"
   ]
  },
  {
   "cell_type": "code",
   "execution_count": 36,
   "metadata": {},
   "outputs": [
    {
     "name": "stdout",
     "output_type": "stream",
     "text": [
      "+--------------------+----------+--------------------+-----+--------------------+\n",
      "|       rawPrediction|prediction|         probability|label|            features|\n",
      "+--------------------+----------+--------------------+-----+--------------------+\n",
      "|[1.77878733086715...|       1.0|[0.08893936654335...|    0|[1.0,0.6931471805...|\n",
      "|[6.91728203025976...|       1.0|[0.34586410151298...|    1|[1.0,2.3978952727...|\n",
      "|[1.33536776803490...|       1.0|[0.06676838840174...|    1|[1.0,2.7725887222...|\n",
      "|[1.27536776803490...|       1.0|[0.06376838840174...|    1|[1.0,2.7725887222...|\n",
      "|[10.8681492256777...|       0.0|[0.54340746128388...|    1|[1.0,2.8332133440...|\n",
      "|[1.54779047141190...|       1.0|[0.07738952357059...|    1|[1.0,2.8332133440...|\n",
      "|[2.15372205123275...|       1.0|[0.10768610256163...|    1|[1.0,2.9444389791...|\n",
      "|[8.12786022821906...|       1.0|[0.40639301141095...|    0|[1.0,2.9444389791...|\n",
      "|[1.76217682566529...|       1.0|[0.08810884128326...|    1|[1.0,3.0445224377...|\n",
      "|[12.5469336266887...|       0.0|[0.62734668133443...|    0|[1.0,3.0910424533...|\n",
      "|[1.88482767846011...|       1.0|[0.09424138392300...|    1|[1.0,3.0910424533...|\n",
      "|[1.60371915116301...|       1.0|[0.08018595755815...|    1|[1.0,3.0910424533...|\n",
      "|[0.96824155458716...|       1.0|[0.04841207772935...|    1|[1.0,3.1354942159...|\n",
      "|[1.78459946050172...|       1.0|[0.08922997302508...|    1|[1.0,3.1354942159...|\n",
      "|[1.67224258175541...|       1.0|[0.08361212908777...|    1|[1.0,3.1780538303...|\n",
      "|[1.05850411561434...|       1.0|[0.05292520578071...|    1|[1.0,3.1780538303...|\n",
      "|[12.5820558203865...|       0.0|[0.62910279101932...|    0|[1.0,3.1780538303...|\n",
      "|[11.4840355430484...|       0.0|[0.57420177715242...|    1|[1.0,3.2188758248...|\n",
      "|[13.9785902014938...|       0.0|[0.69892951007469...|    0|[1.0,3.3672958299...|\n",
      "|[13.4795589726557...|       0.0|[0.67397794863278...|    1|[1.0,3.3672958299...|\n",
      "+--------------------+----------+--------------------+-----+--------------------+\n",
      "only showing top 20 rows\n",
      "\n"
     ]
    }
   ],
   "source": [
    "from pyspark.ml.classification import RandomForestClassifier\n",
    "rf = RandomForestClassifier(featuresCol = 'features', labelCol = 'label')\n",
    "rfModel = rf.fit(train)\n",
    "predictions = rfModel.transform(test)\n",
    "predictions.select(\"rawPrediction\", \"prediction\", \"probability\", \"label\", \"features\").show()"
   ]
  },
  {
   "cell_type": "code",
   "execution_count": 37,
   "metadata": {},
   "outputs": [
    {
     "name": "stdout",
     "output_type": "stream",
     "text": [
      "Test Area Under ROC: 0.8642356071601356\n"
     ]
    }
   ],
   "source": [
    "evaluator = BinaryClassificationEvaluator()\n",
    "print(\"Test Area Under ROC: \" + str(evaluator.evaluate(predictions, {evaluator.metricName: \"areaUnderROC\"})))"
   ]
  },
  {
   "cell_type": "code",
   "execution_count": 38,
   "metadata": {},
   "outputs": [
    {
     "name": "stdout",
     "output_type": "stream",
     "text": [
      "+--------------------+----------+--------------------+-----+--------------------+\n",
      "|       rawPrediction|prediction|         probability|label|            features|\n",
      "+--------------------+----------+--------------------+-----+--------------------+\n",
      "|[-1.3298653575853...|       1.0|[0.06539178903126...|    0|[1.0,0.6931471805...|\n",
      "|[-0.5521541648040...|       1.0|[0.24893351389437...|    1|[1.0,2.3978952727...|\n",
      "|[-1.3298653575853...|       1.0|[0.06539178903126...|    1|[1.0,2.7725887222...|\n",
      "|[-1.3298653575853...|       1.0|[0.06539178903126...|    1|[1.0,2.7725887222...|\n",
      "|[0.24394452332561...|       0.0|[0.61960901975090...|    1|[1.0,2.8332133440...|\n",
      "|[-1.3298653575853...|       1.0|[0.06539178903126...|    1|[1.0,2.8332133440...|\n",
      "|[-0.1588522770190...|       1.0|[0.42123526725635...|    1|[1.0,2.9444389791...|\n",
      "|[0.22004119969919...|       0.0|[0.60827866469854...|    0|[1.0,2.9444389791...|\n",
      "|[-1.3298653575853...|       1.0|[0.06539178903126...|    1|[1.0,3.0445224377...|\n",
      "|[0.21687946831439...|       0.0|[0.60677090965622...|    0|[1.0,3.0910424533...|\n",
      "|[-1.3298653575853...|       1.0|[0.06539178903126...|    1|[1.0,3.0910424533...|\n",
      "|[-1.3298653575853...|       1.0|[0.06539178903126...|    1|[1.0,3.0910424533...|\n",
      "|[-1.3298653575853...|       1.0|[0.06539178903126...|    1|[1.0,3.1354942159...|\n",
      "|[-1.3298653575853...|       1.0|[0.06539178903126...|    1|[1.0,3.1354942159...|\n",
      "|[-1.2629982691682...|       1.0|[0.07405570209447...|    1|[1.0,3.1780538303...|\n",
      "|[-1.2629982691682...|       1.0|[0.07405570209447...|    1|[1.0,3.1780538303...|\n",
      "|[0.10427693403266...|       0.0|[0.55195030638914...|    0|[1.0,3.1780538303...|\n",
      "|[-0.2169688515484...|       1.0|[0.39318643748357...|    1|[1.0,3.2188758248...|\n",
      "|[0.59327288633574...|       0.0|[0.76612270929046...|    0|[1.0,3.3672958299...|\n",
      "|[0.45705961904536...|       0.0|[0.71384234615521...|    1|[1.0,3.3672958299...|\n",
      "+--------------------+----------+--------------------+-----+--------------------+\n",
      "only showing top 20 rows\n",
      "\n"
     ]
    }
   ],
   "source": [
    "from pyspark.ml.classification import GBTClassifier\n",
    "gbt = GBTClassifier(maxIter=10)\n",
    "gbtModel = gbt.fit(train)\n",
    "predictions = gbtModel.transform(test)\n",
    "predictions.select(\"rawPrediction\", \"prediction\", \"probability\", \"label\", \"features\").show()"
   ]
  },
  {
   "cell_type": "code",
   "execution_count": 39,
   "metadata": {},
   "outputs": [
    {
     "name": "stdout",
     "output_type": "stream",
     "text": [
      "Test Area Under ROC: 0.842918480890179\n"
     ]
    }
   ],
   "source": [
    "evaluator = BinaryClassificationEvaluator()\n",
    "print(\"Test Area Under ROC: \" + str(evaluator.evaluate(predictions, {evaluator.metricName: \"areaUnderROC\"})))"
   ]
  },
  {
   "cell_type": "code",
   "execution_count": 40,
   "metadata": {},
   "outputs": [
    {
     "name": "stdout",
     "output_type": "stream",
     "text": [
      "Test Area Under ROC: 0.8660498306724722\n"
     ]
    }
   ],
   "source": [
    "from pyspark.ml.tuning import ParamGridBuilder, CrossValidator\n",
    "paramGrid = (ParamGridBuilder()\n",
    "             .addGrid(gbt.maxDepth, [2, 4, 6])\n",
    "             .addGrid(gbt.maxBins, [20, 60])\n",
    "             .addGrid(gbt.maxIter, [10, 20])\n",
    "             .build())\n",
    "\n",
    "cv = CrossValidator(estimator=gbt, estimatorParamMaps=paramGrid, evaluator=evaluator, numFolds=5)\n",
    "cvModel = cv.fit(train)\n",
    "predictions = cvModel.transform(test)\n",
    "print(\"Test Area Under ROC: \" + str(evaluator.evaluate(predictions, {evaluator.metricName: \"areaUnderROC\"})))"
   ]
  }
 ],
 "metadata": {
  "kernelspec": {
   "display_name": "Python 3",
   "language": "python",
   "name": "python3"
  },
  "language_info": {
   "codemirror_mode": {
    "name": "ipython",
    "version": 3
   },
   "file_extension": ".py",
   "mimetype": "text/x-python",
   "name": "python",
   "nbconvert_exporter": "python",
   "pygments_lexer": "ipython3",
   "version": "3.7.6"
  }
 },
 "nbformat": 4,
 "nbformat_minor": 4
}
