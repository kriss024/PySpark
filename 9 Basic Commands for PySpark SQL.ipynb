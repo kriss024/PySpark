{
 "cells": [
  {
   "cell_type": "code",
   "execution_count": 1,
   "id": "351c7562",
   "metadata": {},
   "outputs": [],
   "source": [
    "# Import SparkSession from pyspark.sql\n",
    "\n",
    "from pyspark.sql.session import SparkSession"
   ]
  },
  {
   "cell_type": "code",
   "execution_count": 2,
   "id": "8d401064",
   "metadata": {},
   "outputs": [],
   "source": [
    "# 1 — Creating a SparkSession\n",
    "\n",
    "spark = SparkSession.builder\\\n",
    "       .master(\"local[*]\")\\\n",
    "       .appName(\"Spark_App\")\\\n",
    "       .getOrCreate()"
   ]
  },
  {
   "cell_type": "code",
   "execution_count": 3,
   "id": "39018785",
   "metadata": {},
   "outputs": [],
   "source": [
    "from pyspark.sql.functions import lit, expr, col, when, coalesce, greatest, least, months_between, trunc, row_number\n",
    "from pyspark.sql.functions import sum as f_sum, min as f_min, max as f_max, mean as f_mean, count as f_count"
   ]
  },
  {
   "cell_type": "code",
   "execution_count": 4,
   "id": "0bafff4a",
   "metadata": {},
   "outputs": [],
   "source": [
    "# 2 — Loading DataFrames\n",
    "\n",
    "df = spark.read.options(header='True', inferSchema='True', delimiter=',') \\\n",
    ".csv(\"smoking_driking_dataset_Ver01.csv\")\n",
    "\n",
    "df = df.select('sex', 'age', 'height', 'weight', 'urine_protein', 'serum_creatinine')"
   ]
  },
  {
   "cell_type": "code",
   "execution_count": 5,
   "id": "2d51b148",
   "metadata": {},
   "outputs": [
    {
     "name": "stdout",
     "output_type": "stream",
     "text": [
      "root\n",
      " |-- sex: string (nullable = true)\n",
      " |-- age: integer (nullable = true)\n",
      " |-- height: integer (nullable = true)\n",
      " |-- weight: integer (nullable = true)\n",
      " |-- urine_protein: double (nullable = true)\n",
      " |-- serum_creatinine: double (nullable = true)\n",
      "\n",
      "+------+---+------+------+-------------+----------------+\n",
      "|sex   |age|height|weight|urine_protein|serum_creatinine|\n",
      "+------+---+------+------+-------------+----------------+\n",
      "|Male  |35 |170   |75    |1.0          |1.0             |\n",
      "|Male  |30 |180   |80    |1.0          |0.9             |\n",
      "|Male  |40 |165   |75    |1.0          |0.9             |\n",
      "|Male  |50 |175   |80    |1.0          |1.1             |\n",
      "|Male  |50 |165   |60    |1.0          |0.8             |\n",
      "|Male  |50 |165   |55    |3.0          |0.8             |\n",
      "|Female|45 |150   |55    |1.0          |0.8             |\n",
      "|Male  |35 |175   |65    |1.0          |0.8             |\n",
      "|Male  |55 |170   |75    |1.0          |0.8             |\n",
      "|Male  |40 |175   |75    |1.0          |0.9             |\n",
      "|Male  |45 |155   |55    |1.0          |0.8             |\n",
      "|Male  |65 |155   |75    |1.0          |1.3             |\n",
      "|Female|55 |150   |55    |1.0          |0.8             |\n",
      "|Male  |30 |175   |75    |1.0          |0.9             |\n",
      "|Female|30 |160   |50    |1.0          |0.6             |\n",
      "|Male  |40 |170   |65    |2.0          |0.9             |\n",
      "|Female|25 |160   |65    |1.0          |0.5             |\n",
      "|Male  |25 |170   |65    |1.0          |0.9             |\n",
      "|Male  |50 |170   |85    |1.0          |1.2             |\n",
      "|Male  |60 |165   |60    |1.0          |1.0             |\n",
      "+------+---+------+------+-------------+----------------+\n",
      "only showing top 20 rows\n",
      "\n",
      "+----+---+------+------+-------------+----------------+\n",
      "|sex |age|height|weight|urine_protein|serum_creatinine|\n",
      "+----+---+------+------+-------------+----------------+\n",
      "|Male|35 |170   |75    |1.0          |1.0             |\n",
      "|Male|30 |180   |80    |1.0          |0.9             |\n",
      "|Male|40 |165   |75    |1.0          |0.9             |\n",
      "|Male|50 |175   |80    |1.0          |1.1             |\n",
      "|Male|50 |165   |60    |1.0          |0.8             |\n",
      "+----+---+------+------+-------------+----------------+\n",
      "only showing top 5 rows\n",
      "\n",
      "<pyspark.sql.session.SparkSession object at 0x7f6649f99c10>\n",
      "[]\n"
     ]
    }
   ],
   "source": [
    "# 3 — Inspecting Data\n",
    "\n",
    "#print the schema of df\n",
    "df.printSchema()\n",
    "\n",
    "#display the content of df\n",
    "df.show(truncate = False)\n",
    "\n",
    "#display the first 5 rows of df\n",
    "df.show(5, truncate = False)\n",
    "\n",
    "# Print spark\n",
    "print(spark)\n",
    "\n",
    "# Print the tables in the catalog\n",
    "print(spark.catalog.listTables())"
   ]
  },
  {
   "cell_type": "code",
   "execution_count": 6,
   "id": "39205aab",
   "metadata": {},
   "outputs": [
    {
     "name": "stdout",
     "output_type": "stream",
     "text": [
      "+------+---+------+------+-------------+----------------+-------+--------------+-------+\n",
      "|sex   |age|height|weight|urine_protein|serum_creatinine|bmi    |age_minus_mean|height2|\n",
      "+------+---+------+------+-------------+----------------+-------+--------------+-------+\n",
      "|Male  |35 |170   |75    |1.0          |1.0             |0.0026 |-12           |170    |\n",
      "|Male  |30 |180   |80    |1.0          |0.9             |0.00247|-17           |180    |\n",
      "|Male  |40 |165   |75    |1.0          |0.9             |0.00275|-7            |165    |\n",
      "|Male  |50 |175   |80    |1.0          |1.1             |0.00261|3             |175    |\n",
      "|Male  |50 |165   |60    |1.0          |0.8             |0.0022 |3             |165    |\n",
      "|Male  |50 |165   |55    |3.0          |0.8             |0.00202|3             |165    |\n",
      "|Female|45 |150   |55    |1.0          |0.8             |0.00244|-2            |150    |\n",
      "|Male  |35 |175   |65    |1.0          |0.8             |0.00212|-12           |175    |\n",
      "|Male  |55 |170   |75    |1.0          |0.8             |0.0026 |8             |170    |\n",
      "|Male  |40 |175   |75    |1.0          |0.9             |0.00245|-7            |175    |\n",
      "|Male  |45 |155   |55    |1.0          |0.8             |0.00229|-2            |155    |\n",
      "|Male  |65 |155   |75    |1.0          |1.3             |0.00312|18            |155    |\n",
      "|Female|55 |150   |55    |1.0          |0.8             |0.00244|8             |150    |\n",
      "|Male  |30 |175   |75    |1.0          |0.9             |0.00245|-17           |175    |\n",
      "|Female|30 |160   |50    |1.0          |0.6             |0.00195|-17           |160    |\n",
      "|Male  |40 |170   |65    |2.0          |0.9             |0.00225|-7            |170    |\n",
      "|Female|25 |160   |65    |1.0          |0.5             |0.00254|-22           |160    |\n",
      "|Male  |25 |170   |65    |1.0          |0.9             |0.00225|-22           |170    |\n",
      "|Male  |50 |170   |85    |1.0          |1.2             |0.00294|3             |170    |\n",
      "|Male  |60 |165   |60    |1.0          |1.0             |0.0022 |13            |165    |\n",
      "+------+---+------+------+-------------+----------------+-------+--------------+-------+\n",
      "only showing top 20 rows\n",
      "\n"
     ]
    }
   ],
   "source": [
    "# 4 — Creating columns\n",
    "\n",
    "# Creating or replacing a local temporary view with this DataFrame.\n",
    "df.createOrReplaceTempView(\"smoking_driking\")\n",
    "\n",
    "# Define my query\n",
    "query = \"SELECT *, round(weight /(height*height), 5) as bmi from smoking_driking\"\n",
    "newdf = spark.sql(query)\n",
    "\n",
    "# Creating columns\n",
    "newdf = newdf.withColumn(\"age_minus_mean\", col(\"age\") - 47)\n",
    "\n",
    "newdf = newdf.select(\"*\", newdf.height.alias(\"height2\"))\n",
    "\n",
    "#display the content of new dataframe\n",
    "newdf.show(truncate = False)"
   ]
  },
  {
   "cell_type": "code",
   "execution_count": 7,
   "id": "cfa5d94d",
   "metadata": {},
   "outputs": [
    {
     "name": "stdout",
     "output_type": "stream",
     "text": [
      "[Table(name='smoking_driking', catalog=None, namespace=[], description=None, tableType='TEMPORARY', isTemporary=True)]\n",
      "+---------+\n",
      "|namespace|\n",
      "+---------+\n",
      "|default  |\n",
      "+---------+\n",
      "\n",
      "+---------+---------------+-----------+\n",
      "|namespace|tableName      |isTemporary|\n",
      "+---------+---------------+-----------+\n",
      "|         |smoking_driking|true       |\n",
      "+---------+---------------+-----------+\n",
      "\n",
      "+----------------+---------+-------+\n",
      "|col_name        |data_type|comment|\n",
      "+----------------+---------+-------+\n",
      "|sex             |string   |null   |\n",
      "|age             |int      |null   |\n",
      "|height          |int      |null   |\n",
      "|weight          |int      |null   |\n",
      "|urine_protein   |double   |null   |\n",
      "|serum_creatinine|double   |null   |\n",
      "+----------------+---------+-------+\n",
      "\n"
     ]
    }
   ],
   "source": [
    "# Print the tables in the catalog\n",
    "print(spark.catalog.listTables())\n",
    "\n",
    "spark.sql(\"show databases\").show(truncate=False)\n",
    "\n",
    "spark.sql('show tables in default').show(20, truncate=False)\n",
    "\n",
    "spark.sql('describe smoking_driking').show(20, truncate=False)"
   ]
  },
  {
   "cell_type": "code",
   "execution_count": 8,
   "id": "da028af0",
   "metadata": {},
   "outputs": [
    {
     "name": "stdout",
     "output_type": "stream",
     "text": [
      "+------+---+------+------+\n",
      "|sex   |age|height|weight|\n",
      "+------+---+------+------+\n",
      "|Male  |35 |170   |75    |\n",
      "|Male  |30 |180   |80    |\n",
      "|Male  |40 |165   |75    |\n",
      "|Male  |50 |175   |80    |\n",
      "|Male  |50 |165   |60    |\n",
      "|Male  |50 |165   |55    |\n",
      "|Female|45 |150   |55    |\n",
      "|Male  |35 |175   |65    |\n",
      "|Male  |55 |170   |75    |\n",
      "|Male  |40 |175   |75    |\n",
      "|Male  |45 |155   |55    |\n",
      "|Male  |65 |155   |75    |\n",
      "|Female|55 |150   |55    |\n",
      "|Male  |30 |175   |75    |\n",
      "|Female|30 |160   |50    |\n",
      "|Male  |40 |170   |65    |\n",
      "|Female|25 |160   |65    |\n",
      "|Male  |25 |170   |65    |\n",
      "|Male  |50 |170   |85    |\n",
      "|Male  |60 |165   |60    |\n",
      "+------+---+------+------+\n",
      "only showing top 20 rows\n",
      "\n"
     ]
    }
   ],
   "source": [
    "# 5 — Selecting\n",
    "\n",
    "df.select('sex', 'age', 'height', 'weight', 'urine_protein', 'serum_creatinine') \\\n",
    ".drop('urine_protein', 'serum_creatinine') \\\n",
    ".show(truncate = False)"
   ]
  },
  {
   "cell_type": "code",
   "execution_count": 9,
   "id": "9659d5be",
   "metadata": {},
   "outputs": [
    {
     "name": "stdout",
     "output_type": "stream",
     "text": [
      "+------+---+------+------+-------------+----------------+\n",
      "|sex   |age|height|weight|urine_protein|serum_creatinine|\n",
      "+------+---+------+------+-------------+----------------+\n",
      "|Male  |35 |170   |75    |1.0          |1.0             |\n",
      "|Male  |30 |180   |80    |1.0          |0.9             |\n",
      "|Male  |40 |165   |75    |1.0          |0.9             |\n",
      "|Male  |35 |175   |65    |1.0          |0.8             |\n",
      "|Male  |40 |175   |75    |1.0          |0.9             |\n",
      "|Male  |30 |175   |75    |1.0          |0.9             |\n",
      "|Female|30 |160   |50    |1.0          |0.6             |\n",
      "|Male  |40 |170   |65    |2.0          |0.9             |\n",
      "|Female|35 |170   |50    |1.0          |0.9             |\n",
      "|Male  |40 |165   |75    |1.0          |1.0             |\n",
      "|Female|35 |160   |55    |1.0          |0.8             |\n",
      "|Female|30 |170   |55    |1.0          |0.8             |\n",
      "|Male  |40 |175   |75    |1.0          |0.9             |\n",
      "|Male  |40 |165   |60    |1.0          |1.1             |\n",
      "|Male  |45 |170   |80    |1.0          |0.9             |\n",
      "|Male  |30 |170   |80    |1.0          |0.8             |\n",
      "|Male  |40 |175   |65    |1.0          |0.9             |\n",
      "|Female|40 |160   |55    |1.0          |0.8             |\n",
      "|Female|30 |160   |60    |1.0          |0.5             |\n",
      "|Female|30 |165   |75    |1.0          |0.7             |\n",
      "+------+---+------+------+-------------+----------------+\n",
      "only showing top 20 rows\n",
      "\n"
     ]
    }
   ],
   "source": [
    "# 6 — Filtering\n",
    "\n",
    "df.filter(\"age >= 27 and age < 47 and height > 155\").show(truncate = False)"
   ]
  },
  {
   "cell_type": "code",
   "execution_count": 10,
   "id": "282e6d45",
   "metadata": {},
   "outputs": [
    {
     "name": "stdout",
     "output_type": "stream",
     "text": [
      "991346\n",
      "+------+--------+\n",
      "|sex   |max(age)|\n",
      "+------+--------+\n",
      "|Female|85      |\n",
      "|Male  |85      |\n",
      "+------+--------+\n",
      "\n",
      "+------+---------+-------+----------------+----------+----------+\n",
      "|sex   |count_obs|sum_obs|mean_age        |min_weight|max_weight|\n",
      "+------+---------+-------+----------------+----------+----------+\n",
      "|Female|464931   |464931 |48.8703485033263|25        |120       |\n",
      "|Male  |526415   |526415 |46.5053142482642|40        |140       |\n",
      "+------+---------+-------+----------------+----------+----------+\n",
      "\n"
     ]
    }
   ],
   "source": [
    "# 7 — Aggregating\n",
    "\n",
    "print(df.count())\n",
    "\n",
    "df.groupBy(\"sex\").agg({\"age\": \"max\"}).show(truncate = False)\n",
    "\n",
    "df.groupBy(\"sex\") \\\n",
    "    .agg(f_count(lit(1)).alias(\"count_obs\"), \\\n",
    "         f_sum(lit(1)).alias(\"sum_obs\"), \\\n",
    "         f_mean(\"age\").alias(\"mean_age\"), \\\n",
    "         f_min(\"weight\").alias(\"min_weight\"), \\\n",
    "         f_max(\"weight\").alias(\"max_weight\") \\\n",
    "     ).show(truncate=False)"
   ]
  },
  {
   "cell_type": "code",
   "execution_count": 11,
   "id": "b8f6e9e5",
   "metadata": {},
   "outputs": [
    {
     "name": "stdout",
     "output_type": "stream",
     "text": [
      "+------+\n",
      "|sex   |\n",
      "+------+\n",
      "|Male  |\n",
      "|Female|\n",
      "+------+\n",
      "\n",
      "+------+\n",
      "|sex   |\n",
      "+------+\n",
      "|Female|\n",
      "|Male  |\n",
      "+------+\n",
      "\n"
     ]
    }
   ],
   "source": [
    "df.select('sex') \\\n",
    ".dropDuplicates() \\\n",
    ".orderBy(col('sex').desc()) \\\n",
    ".show(truncate = False)\n",
    "\n",
    "df.select('sex') \\\n",
    ".distinct() \\\n",
    ".orderBy(col('sex').asc()) \\\n",
    ".show(truncate = False)"
   ]
  },
  {
   "cell_type": "code",
   "execution_count": 12,
   "id": "ae24c60d",
   "metadata": {},
   "outputs": [
    {
     "name": "stdout",
     "output_type": "stream",
     "text": [
      "+------------+\n",
      "|people_count|\n",
      "+------------+\n",
      "|326788      |\n",
      "+------------+\n",
      "\n"
     ]
    }
   ],
   "source": [
    "# 9 — Running Queries Programmatically\n",
    "\n",
    "# Creating or replacing a local temporary view with this DataFrame.\n",
    "df.createOrReplaceTempView(\"smoking_driking\")\n",
    "\n",
    "# SQL statements can be run by using the sql method\n",
    "query = \"\"\"SELECT count(1) as people_count\n",
    "            FROM smoking_driking\n",
    "            WHERE age >= 27 \n",
    "            and age < 47 \n",
    "            and height > 155 \"\"\"\n",
    "\n",
    "peopleCountDf = spark.sql(query)\n",
    "\n",
    "# Display the content of df\n",
    "peopleCountDf.show(truncate=False)"
   ]
  },
  {
   "cell_type": "code",
   "execution_count": 13,
   "id": "0b8685c6",
   "metadata": {},
   "outputs": [
    {
     "name": "stdout",
     "output_type": "stream",
     "text": [
      "+------+---+------+------+-------------+----------------+\n",
      "|sex   |age|height|weight|urine_protein|serum_creatinine|\n",
      "+------+---+------+------+-------------+----------------+\n",
      "|Male  |30 |170   |70    |1.0          |0.8             |\n",
      "|Female|40 |160   |60    |1.0          |0.6             |\n",
      "|Male  |50 |160   |70    |1.0          |1.3             |\n",
      "|Female|65 |145   |50    |3.0          |0.6             |\n",
      "|Male  |50 |175   |70    |1.0          |0.9             |\n",
      "|Male  |40 |175   |80    |1.0          |1.0             |\n",
      "|Female|45 |155   |45    |1.0          |0.7             |\n",
      "|Male  |70 |160   |65    |1.0          |0.9             |\n",
      "|Female|55 |160   |55    |1.0          |0.7             |\n",
      "|Male  |50 |160   |65    |1.0          |0.9             |\n",
      "|Male  |35 |175   |70    |1.0          |0.9             |\n",
      "|Male  |40 |155   |55    |1.0          |1.1             |\n",
      "|Female|35 |165   |50    |1.0          |0.7             |\n",
      "|Male  |55 |155   |65    |1.0          |0.8             |\n",
      "|Male  |55 |165   |55    |1.0          |1.1             |\n",
      "|Male  |55 |170   |70    |1.0          |0.9             |\n",
      "|Female|50 |155   |60    |1.0          |1.0             |\n",
      "|Female|40 |145   |40    |1.0          |0.7             |\n",
      "|Female|60 |160   |55    |1.0          |0.8             |\n",
      "|Female|40 |160   |45    |1.0          |0.6             |\n",
      "+------+---+------+------+-------------+----------------+\n",
      "only showing top 20 rows\n",
      "\n"
     ]
    }
   ],
   "source": [
    "# 10 — Saving DataFrame to a parquet file\n",
    "df.write.mode(\"overwrite\").parquet(\"smoking_drikin.parquet\")\n",
    "\n",
    "df_parquet = spark.read.parquet(\"smoking_drikin.parquet\")\n",
    "df_parquet.show(truncate=False)"
   ]
  },
  {
   "cell_type": "code",
   "execution_count": 14,
   "id": "97e7ed4d",
   "metadata": {},
   "outputs": [],
   "source": [
    "spark.stop()"
   ]
  }
 ],
 "metadata": {
  "kernelspec": {
   "display_name": "Python 3 (ipykernel)",
   "language": "python",
   "name": "python3"
  },
  "language_info": {
   "codemirror_mode": {
    "name": "ipython",
    "version": 3
   },
   "file_extension": ".py",
   "mimetype": "text/x-python",
   "name": "python",
   "nbconvert_exporter": "python",
   "pygments_lexer": "ipython3",
   "version": "3.11.5"
  }
 },
 "nbformat": 4,
 "nbformat_minor": 5
}
